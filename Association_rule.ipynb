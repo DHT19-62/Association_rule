{
 "cells": [
  {
   "cell_type": "code",
   "execution_count": 249,
   "metadata": {
    "colab": {
     "base_uri": "https://localhost:8080/"
    },
    "executionInfo": {
     "elapsed": 3636,
     "status": "ok",
     "timestamp": 1664807940500,
     "user": {
      "displayName": "Hoàng Tiến Dương",
      "userId": "10873276387831537806"
     },
     "user_tz": -420
    },
    "id": "6oCwsif4wdCK",
    "outputId": "e43b69be-dca0-442f-98ae-525c073749e2"
   },
   "outputs": [
    {
     "name": "stdout",
     "output_type": "stream",
     "text": [
      "Looking in indexes: https://pypi.org/simple, https://us-python.pkg.dev/colab-wheels/public/simple/\n",
      "Requirement already satisfied: mlxtend in /usr/local/lib/python3.7/dist-packages (0.14.0)\n",
      "Requirement already satisfied: scipy>=0.17 in /usr/local/lib/python3.7/dist-packages (from mlxtend) (1.7.3)\n",
      "Requirement already satisfied: matplotlib>=1.5.1 in /usr/local/lib/python3.7/dist-packages (from mlxtend) (3.2.2)\n",
      "Requirement already satisfied: pandas>=0.17.1 in /usr/local/lib/python3.7/dist-packages (from mlxtend) (1.3.5)\n",
      "Requirement already satisfied: setuptools in /usr/local/lib/python3.7/dist-packages (from mlxtend) (57.4.0)\n",
      "Requirement already satisfied: scikit-learn>=0.18 in /usr/local/lib/python3.7/dist-packages (from mlxtend) (1.0.2)\n",
      "Requirement already satisfied: numpy>=1.10.4 in /usr/local/lib/python3.7/dist-packages (from mlxtend) (1.21.6)\n",
      "Requirement already satisfied: cycler>=0.10 in /usr/local/lib/python3.7/dist-packages (from matplotlib>=1.5.1->mlxtend) (0.11.0)\n",
      "Requirement already satisfied: python-dateutil>=2.1 in /usr/local/lib/python3.7/dist-packages (from matplotlib>=1.5.1->mlxtend) (2.8.2)\n",
      "Requirement already satisfied: kiwisolver>=1.0.1 in /usr/local/lib/python3.7/dist-packages (from matplotlib>=1.5.1->mlxtend) (1.4.4)\n",
      "Requirement already satisfied: pyparsing!=2.0.4,!=2.1.2,!=2.1.6,>=2.0.1 in /usr/local/lib/python3.7/dist-packages (from matplotlib>=1.5.1->mlxtend) (3.0.9)\n",
      "Requirement already satisfied: typing-extensions in /usr/local/lib/python3.7/dist-packages (from kiwisolver>=1.0.1->matplotlib>=1.5.1->mlxtend) (4.1.1)\n",
      "Requirement already satisfied: pytz>=2017.3 in /usr/local/lib/python3.7/dist-packages (from pandas>=0.17.1->mlxtend) (2022.2.1)\n",
      "Requirement already satisfied: six>=1.5 in /usr/local/lib/python3.7/dist-packages (from python-dateutil>=2.1->matplotlib>=1.5.1->mlxtend) (1.15.0)\n",
      "Requirement already satisfied: threadpoolctl>=2.0.0 in /usr/local/lib/python3.7/dist-packages (from scikit-learn>=0.18->mlxtend) (3.1.0)\n",
      "Requirement already satisfied: joblib>=0.11 in /usr/local/lib/python3.7/dist-packages (from scikit-learn>=0.18->mlxtend) (1.1.0)\n"
     ]
    }
   ],
   "source": [
    "!pip install mlxtend"
   ]
  },
  {
   "cell_type": "code",
   "execution_count": 249,
   "metadata": {
    "executionInfo": {
     "elapsed": 7,
     "status": "ok",
     "timestamp": 1664807940501,
     "user": {
      "displayName": "Hoàng Tiến Dương",
      "userId": "10873276387831537806"
     },
     "user_tz": -420
    },
    "id": "vjfB2hTqziTE"
   },
   "outputs": [],
   "source": []
  },
  {
   "cell_type": "code",
   "execution_count": 250,
   "metadata": {
    "executionInfo": {
     "elapsed": 6,
     "status": "ok",
     "timestamp": 1664807940501,
     "user": {
      "displayName": "Hoàng Tiến Dương",
      "userId": "10873276387831537806"
     },
     "user_tz": -420
    },
    "id": "iOLYQ8VUdCJD"
   },
   "outputs": [],
   "source": [
    "import pandas as pd\n",
    "import numpy as np\n",
    "import seaborn as sns\n",
    "import matplotlib.pyplot as plt"
   ]
  },
  {
   "cell_type": "code",
   "execution_count": 251,
   "metadata": {
    "colab": {
     "base_uri": "https://localhost:8080/",
     "height": 206
    },
    "executionInfo": {
     "elapsed": 986,
     "status": "ok",
     "timestamp": 1664807941482,
     "user": {
      "displayName": "Hoàng Tiến Dương",
      "userId": "10873276387831537806"
     },
     "user_tz": -420
    },
    "id": "C3sq1K4Zdd-4",
    "outputId": "59877779-ed61-4f64-d38e-25f9d23f81c7"
   },
   "outputs": [
    {
     "data": {
      "text/html": [
       "\n",
       "  <div id=\"df-47ceb513-2713-4425-8518-eec01ea193ce\">\n",
       "    <div class=\"colab-df-container\">\n",
       "      <div>\n",
       "<style scoped>\n",
       "    .dataframe tbody tr th:only-of-type {\n",
       "        vertical-align: middle;\n",
       "    }\n",
       "\n",
       "    .dataframe tbody tr th {\n",
       "        vertical-align: top;\n",
       "    }\n",
       "\n",
       "    .dataframe thead th {\n",
       "        text-align: right;\n",
       "    }\n",
       "</style>\n",
       "<table border=\"1\" class=\"dataframe\">\n",
       "  <thead>\n",
       "    <tr style=\"text-align: right;\">\n",
       "      <th></th>\n",
       "      <th>Unnamed: 0</th>\n",
       "      <th>Date</th>\n",
       "      <th>Customer_ID</th>\n",
       "      <th>Transaction_ID</th>\n",
       "      <th>SKU_Category</th>\n",
       "      <th>SKU</th>\n",
       "      <th>Quantity</th>\n",
       "      <th>Sales_Amount</th>\n",
       "    </tr>\n",
       "  </thead>\n",
       "  <tbody>\n",
       "    <tr>\n",
       "      <th>0</th>\n",
       "      <td>1</td>\n",
       "      <td>02/01/2016</td>\n",
       "      <td>2547</td>\n",
       "      <td>1</td>\n",
       "      <td>X52</td>\n",
       "      <td>0EM7L</td>\n",
       "      <td>1.0</td>\n",
       "      <td>3.13</td>\n",
       "    </tr>\n",
       "    <tr>\n",
       "      <th>1</th>\n",
       "      <td>2</td>\n",
       "      <td>02/01/2016</td>\n",
       "      <td>822</td>\n",
       "      <td>2</td>\n",
       "      <td>2ML</td>\n",
       "      <td>68BRQ</td>\n",
       "      <td>1.0</td>\n",
       "      <td>5.46</td>\n",
       "    </tr>\n",
       "    <tr>\n",
       "      <th>2</th>\n",
       "      <td>3</td>\n",
       "      <td>02/01/2016</td>\n",
       "      <td>3686</td>\n",
       "      <td>3</td>\n",
       "      <td>0H2</td>\n",
       "      <td>CZUZX</td>\n",
       "      <td>1.0</td>\n",
       "      <td>6.35</td>\n",
       "    </tr>\n",
       "    <tr>\n",
       "      <th>3</th>\n",
       "      <td>4</td>\n",
       "      <td>02/01/2016</td>\n",
       "      <td>3719</td>\n",
       "      <td>4</td>\n",
       "      <td>0H2</td>\n",
       "      <td>549KK</td>\n",
       "      <td>1.0</td>\n",
       "      <td>5.59</td>\n",
       "    </tr>\n",
       "    <tr>\n",
       "      <th>4</th>\n",
       "      <td>5</td>\n",
       "      <td>02/01/2016</td>\n",
       "      <td>9200</td>\n",
       "      <td>5</td>\n",
       "      <td>0H2</td>\n",
       "      <td>K8EHH</td>\n",
       "      <td>1.0</td>\n",
       "      <td>6.88</td>\n",
       "    </tr>\n",
       "  </tbody>\n",
       "</table>\n",
       "</div>\n",
       "      <button class=\"colab-df-convert\" onclick=\"convertToInteractive('df-47ceb513-2713-4425-8518-eec01ea193ce')\"\n",
       "              title=\"Convert this dataframe to an interactive table.\"\n",
       "              style=\"display:none;\">\n",
       "        \n",
       "  <svg xmlns=\"http://www.w3.org/2000/svg\" height=\"24px\"viewBox=\"0 0 24 24\"\n",
       "       width=\"24px\">\n",
       "    <path d=\"M0 0h24v24H0V0z\" fill=\"none\"/>\n",
       "    <path d=\"M18.56 5.44l.94 2.06.94-2.06 2.06-.94-2.06-.94-.94-2.06-.94 2.06-2.06.94zm-11 1L8.5 8.5l.94-2.06 2.06-.94-2.06-.94L8.5 2.5l-.94 2.06-2.06.94zm10 10l.94 2.06.94-2.06 2.06-.94-2.06-.94-.94-2.06-.94 2.06-2.06.94z\"/><path d=\"M17.41 7.96l-1.37-1.37c-.4-.4-.92-.59-1.43-.59-.52 0-1.04.2-1.43.59L10.3 9.45l-7.72 7.72c-.78.78-.78 2.05 0 2.83L4 21.41c.39.39.9.59 1.41.59.51 0 1.02-.2 1.41-.59l7.78-7.78 2.81-2.81c.8-.78.8-2.07 0-2.86zM5.41 20L4 18.59l7.72-7.72 1.47 1.35L5.41 20z\"/>\n",
       "  </svg>\n",
       "      </button>\n",
       "      \n",
       "  <style>\n",
       "    .colab-df-container {\n",
       "      display:flex;\n",
       "      flex-wrap:wrap;\n",
       "      gap: 12px;\n",
       "    }\n",
       "\n",
       "    .colab-df-convert {\n",
       "      background-color: #E8F0FE;\n",
       "      border: none;\n",
       "      border-radius: 50%;\n",
       "      cursor: pointer;\n",
       "      display: none;\n",
       "      fill: #1967D2;\n",
       "      height: 32px;\n",
       "      padding: 0 0 0 0;\n",
       "      width: 32px;\n",
       "    }\n",
       "\n",
       "    .colab-df-convert:hover {\n",
       "      background-color: #E2EBFA;\n",
       "      box-shadow: 0px 1px 2px rgba(60, 64, 67, 0.3), 0px 1px 3px 1px rgba(60, 64, 67, 0.15);\n",
       "      fill: #174EA6;\n",
       "    }\n",
       "\n",
       "    [theme=dark] .colab-df-convert {\n",
       "      background-color: #3B4455;\n",
       "      fill: #D2E3FC;\n",
       "    }\n",
       "\n",
       "    [theme=dark] .colab-df-convert:hover {\n",
       "      background-color: #434B5C;\n",
       "      box-shadow: 0px 1px 3px 1px rgba(0, 0, 0, 0.15);\n",
       "      filter: drop-shadow(0px 1px 2px rgba(0, 0, 0, 0.3));\n",
       "      fill: #FFFFFF;\n",
       "    }\n",
       "  </style>\n",
       "\n",
       "      <script>\n",
       "        const buttonEl =\n",
       "          document.querySelector('#df-47ceb513-2713-4425-8518-eec01ea193ce button.colab-df-convert');\n",
       "        buttonEl.style.display =\n",
       "          google.colab.kernel.accessAllowed ? 'block' : 'none';\n",
       "\n",
       "        async function convertToInteractive(key) {\n",
       "          const element = document.querySelector('#df-47ceb513-2713-4425-8518-eec01ea193ce');\n",
       "          const dataTable =\n",
       "            await google.colab.kernel.invokeFunction('convertToInteractive',\n",
       "                                                     [key], {});\n",
       "          if (!dataTable) return;\n",
       "\n",
       "          const docLinkHtml = 'Like what you see? Visit the ' +\n",
       "            '<a target=\"_blank\" href=https://colab.research.google.com/notebooks/data_table.ipynb>data table notebook</a>'\n",
       "            + ' to learn more about interactive tables.';\n",
       "          element.innerHTML = '';\n",
       "          dataTable['output_type'] = 'display_data';\n",
       "          await google.colab.output.renderOutput(dataTable, element);\n",
       "          const docLink = document.createElement('div');\n",
       "          docLink.innerHTML = docLinkHtml;\n",
       "          element.appendChild(docLink);\n",
       "        }\n",
       "      </script>\n",
       "    </div>\n",
       "  </div>\n",
       "  "
      ],
      "text/plain": [
       "   Unnamed: 0        Date  Customer_ID  Transaction_ID SKU_Category    SKU  \\\n",
       "0           1  02/01/2016         2547               1          X52  0EM7L   \n",
       "1           2  02/01/2016          822               2          2ML  68BRQ   \n",
       "2           3  02/01/2016         3686               3          0H2  CZUZX   \n",
       "3           4  02/01/2016         3719               4          0H2  549KK   \n",
       "4           5  02/01/2016         9200               5          0H2  K8EHH   \n",
       "\n",
       "   Quantity  Sales_Amount  \n",
       "0       1.0          3.13  \n",
       "1       1.0          5.46  \n",
       "2       1.0          6.35  \n",
       "3       1.0          5.59  \n",
       "4       1.0          6.88  "
      ]
     },
     "execution_count": 251,
     "metadata": {},
     "output_type": "execute_result"
    }
   ],
   "source": [
    "data = pd.read_csv('/content/drive/MyDrive/LDS6_K278_ONLINE_Dương Hoàng Tiến/DeThi_CuoiKy_MachineLearning_Python_K278/Data/market_basket.csv')\n",
    "data.head()"
   ]
  },
  {
   "cell_type": "code",
   "execution_count": 252,
   "metadata": {
    "colab": {
     "base_uri": "https://localhost:8080/"
    },
    "executionInfo": {
     "elapsed": 43,
     "status": "ok",
     "timestamp": 1664807941483,
     "user": {
      "displayName": "Hoàng Tiến Dương",
      "userId": "10873276387831537806"
     },
     "user_tz": -420
    },
    "id": "3-Sue3m4dyuC",
    "outputId": "911d06a7-0b2a-4298-fd7a-4f10f02ba359"
   },
   "outputs": [
    {
     "name": "stdout",
     "output_type": "stream",
     "text": [
      "<class 'pandas.core.frame.DataFrame'>\n",
      "RangeIndex: 131706 entries, 0 to 131705\n",
      "Data columns (total 8 columns):\n",
      " #   Column          Non-Null Count   Dtype  \n",
      "---  ------          --------------   -----  \n",
      " 0   Unnamed: 0      131706 non-null  int64  \n",
      " 1   Date            131706 non-null  object \n",
      " 2   Customer_ID     131706 non-null  int64  \n",
      " 3   Transaction_ID  131706 non-null  int64  \n",
      " 4   SKU_Category    131706 non-null  object \n",
      " 5   SKU             131706 non-null  object \n",
      " 6   Quantity        131706 non-null  float64\n",
      " 7   Sales_Amount    131706 non-null  float64\n",
      "dtypes: float64(2), int64(3), object(3)\n",
      "memory usage: 8.0+ MB\n"
     ]
    }
   ],
   "source": [
    "data.info()"
   ]
  },
  {
   "cell_type": "code",
   "execution_count": 253,
   "metadata": {
    "colab": {
     "base_uri": "https://localhost:8080/"
    },
    "executionInfo": {
     "elapsed": 38,
     "status": "ok",
     "timestamp": 1664807941483,
     "user": {
      "displayName": "Hoàng Tiến Dương",
      "userId": "10873276387831537806"
     },
     "user_tz": -420
    },
    "id": "q7tMfaWad26n",
    "outputId": "884eecfa-a649-4711-af63-fd565d28e927"
   },
   "outputs": [
    {
     "data": {
      "text/plain": [
       "(131706, 8)"
      ]
     },
     "execution_count": 253,
     "metadata": {},
     "output_type": "execute_result"
    }
   ],
   "source": [
    "data.shape"
   ]
  },
  {
   "cell_type": "code",
   "execution_count": 254,
   "metadata": {
    "colab": {
     "base_uri": "https://localhost:8080/",
     "height": 206
    },
    "executionInfo": {
     "elapsed": 35,
     "status": "ok",
     "timestamp": 1664807941483,
     "user": {
      "displayName": "Hoàng Tiến Dương",
      "userId": "10873276387831537806"
     },
     "user_tz": -420
    },
    "id": "PhZ_DLx7d55L",
    "outputId": "17ab821d-9979-4cc7-c6f1-9b0b49624338"
   },
   "outputs": [
    {
     "data": {
      "text/html": [
       "\n",
       "  <div id=\"df-bd01523b-a1ca-4c53-8520-60aa70c93e7c\">\n",
       "    <div class=\"colab-df-container\">\n",
       "      <div>\n",
       "<style scoped>\n",
       "    .dataframe tbody tr th:only-of-type {\n",
       "        vertical-align: middle;\n",
       "    }\n",
       "\n",
       "    .dataframe tbody tr th {\n",
       "        vertical-align: top;\n",
       "    }\n",
       "\n",
       "    .dataframe thead th {\n",
       "        text-align: right;\n",
       "    }\n",
       "</style>\n",
       "<table border=\"1\" class=\"dataframe\">\n",
       "  <thead>\n",
       "    <tr style=\"text-align: right;\">\n",
       "      <th></th>\n",
       "      <th>Date</th>\n",
       "      <th>Customer_ID</th>\n",
       "      <th>Transaction_ID</th>\n",
       "      <th>SKU_Category</th>\n",
       "      <th>SKU</th>\n",
       "      <th>Quantity</th>\n",
       "      <th>Sales_Amount</th>\n",
       "    </tr>\n",
       "  </thead>\n",
       "  <tbody>\n",
       "    <tr>\n",
       "      <th>0</th>\n",
       "      <td>02/01/2016</td>\n",
       "      <td>2547</td>\n",
       "      <td>1</td>\n",
       "      <td>X52</td>\n",
       "      <td>0EM7L</td>\n",
       "      <td>1.0</td>\n",
       "      <td>3.13</td>\n",
       "    </tr>\n",
       "    <tr>\n",
       "      <th>1</th>\n",
       "      <td>02/01/2016</td>\n",
       "      <td>822</td>\n",
       "      <td>2</td>\n",
       "      <td>2ML</td>\n",
       "      <td>68BRQ</td>\n",
       "      <td>1.0</td>\n",
       "      <td>5.46</td>\n",
       "    </tr>\n",
       "    <tr>\n",
       "      <th>2</th>\n",
       "      <td>02/01/2016</td>\n",
       "      <td>3686</td>\n",
       "      <td>3</td>\n",
       "      <td>0H2</td>\n",
       "      <td>CZUZX</td>\n",
       "      <td>1.0</td>\n",
       "      <td>6.35</td>\n",
       "    </tr>\n",
       "    <tr>\n",
       "      <th>3</th>\n",
       "      <td>02/01/2016</td>\n",
       "      <td>3719</td>\n",
       "      <td>4</td>\n",
       "      <td>0H2</td>\n",
       "      <td>549KK</td>\n",
       "      <td>1.0</td>\n",
       "      <td>5.59</td>\n",
       "    </tr>\n",
       "    <tr>\n",
       "      <th>4</th>\n",
       "      <td>02/01/2016</td>\n",
       "      <td>9200</td>\n",
       "      <td>5</td>\n",
       "      <td>0H2</td>\n",
       "      <td>K8EHH</td>\n",
       "      <td>1.0</td>\n",
       "      <td>6.88</td>\n",
       "    </tr>\n",
       "  </tbody>\n",
       "</table>\n",
       "</div>\n",
       "      <button class=\"colab-df-convert\" onclick=\"convertToInteractive('df-bd01523b-a1ca-4c53-8520-60aa70c93e7c')\"\n",
       "              title=\"Convert this dataframe to an interactive table.\"\n",
       "              style=\"display:none;\">\n",
       "        \n",
       "  <svg xmlns=\"http://www.w3.org/2000/svg\" height=\"24px\"viewBox=\"0 0 24 24\"\n",
       "       width=\"24px\">\n",
       "    <path d=\"M0 0h24v24H0V0z\" fill=\"none\"/>\n",
       "    <path d=\"M18.56 5.44l.94 2.06.94-2.06 2.06-.94-2.06-.94-.94-2.06-.94 2.06-2.06.94zm-11 1L8.5 8.5l.94-2.06 2.06-.94-2.06-.94L8.5 2.5l-.94 2.06-2.06.94zm10 10l.94 2.06.94-2.06 2.06-.94-2.06-.94-.94-2.06-.94 2.06-2.06.94z\"/><path d=\"M17.41 7.96l-1.37-1.37c-.4-.4-.92-.59-1.43-.59-.52 0-1.04.2-1.43.59L10.3 9.45l-7.72 7.72c-.78.78-.78 2.05 0 2.83L4 21.41c.39.39.9.59 1.41.59.51 0 1.02-.2 1.41-.59l7.78-7.78 2.81-2.81c.8-.78.8-2.07 0-2.86zM5.41 20L4 18.59l7.72-7.72 1.47 1.35L5.41 20z\"/>\n",
       "  </svg>\n",
       "      </button>\n",
       "      \n",
       "  <style>\n",
       "    .colab-df-container {\n",
       "      display:flex;\n",
       "      flex-wrap:wrap;\n",
       "      gap: 12px;\n",
       "    }\n",
       "\n",
       "    .colab-df-convert {\n",
       "      background-color: #E8F0FE;\n",
       "      border: none;\n",
       "      border-radius: 50%;\n",
       "      cursor: pointer;\n",
       "      display: none;\n",
       "      fill: #1967D2;\n",
       "      height: 32px;\n",
       "      padding: 0 0 0 0;\n",
       "      width: 32px;\n",
       "    }\n",
       "\n",
       "    .colab-df-convert:hover {\n",
       "      background-color: #E2EBFA;\n",
       "      box-shadow: 0px 1px 2px rgba(60, 64, 67, 0.3), 0px 1px 3px 1px rgba(60, 64, 67, 0.15);\n",
       "      fill: #174EA6;\n",
       "    }\n",
       "\n",
       "    [theme=dark] .colab-df-convert {\n",
       "      background-color: #3B4455;\n",
       "      fill: #D2E3FC;\n",
       "    }\n",
       "\n",
       "    [theme=dark] .colab-df-convert:hover {\n",
       "      background-color: #434B5C;\n",
       "      box-shadow: 0px 1px 3px 1px rgba(0, 0, 0, 0.15);\n",
       "      filter: drop-shadow(0px 1px 2px rgba(0, 0, 0, 0.3));\n",
       "      fill: #FFFFFF;\n",
       "    }\n",
       "  </style>\n",
       "\n",
       "      <script>\n",
       "        const buttonEl =\n",
       "          document.querySelector('#df-bd01523b-a1ca-4c53-8520-60aa70c93e7c button.colab-df-convert');\n",
       "        buttonEl.style.display =\n",
       "          google.colab.kernel.accessAllowed ? 'block' : 'none';\n",
       "\n",
       "        async function convertToInteractive(key) {\n",
       "          const element = document.querySelector('#df-bd01523b-a1ca-4c53-8520-60aa70c93e7c');\n",
       "          const dataTable =\n",
       "            await google.colab.kernel.invokeFunction('convertToInteractive',\n",
       "                                                     [key], {});\n",
       "          if (!dataTable) return;\n",
       "\n",
       "          const docLinkHtml = 'Like what you see? Visit the ' +\n",
       "            '<a target=\"_blank\" href=https://colab.research.google.com/notebooks/data_table.ipynb>data table notebook</a>'\n",
       "            + ' to learn more about interactive tables.';\n",
       "          element.innerHTML = '';\n",
       "          dataTable['output_type'] = 'display_data';\n",
       "          await google.colab.output.renderOutput(dataTable, element);\n",
       "          const docLink = document.createElement('div');\n",
       "          docLink.innerHTML = docLinkHtml;\n",
       "          element.appendChild(docLink);\n",
       "        }\n",
       "      </script>\n",
       "    </div>\n",
       "  </div>\n",
       "  "
      ],
      "text/plain": [
       "         Date  Customer_ID  Transaction_ID SKU_Category    SKU  Quantity  \\\n",
       "0  02/01/2016         2547               1          X52  0EM7L       1.0   \n",
       "1  02/01/2016          822               2          2ML  68BRQ       1.0   \n",
       "2  02/01/2016         3686               3          0H2  CZUZX       1.0   \n",
       "3  02/01/2016         3719               4          0H2  549KK       1.0   \n",
       "4  02/01/2016         9200               5          0H2  K8EHH       1.0   \n",
       "\n",
       "   Sales_Amount  \n",
       "0          3.13  \n",
       "1          5.46  \n",
       "2          6.35  \n",
       "3          5.59  \n",
       "4          6.88  "
      ]
     },
     "execution_count": 254,
     "metadata": {},
     "output_type": "execute_result"
    }
   ],
   "source": [
    "data = data.drop('Unnamed: 0', axis=1)\n",
    "data.head()"
   ]
  },
  {
   "cell_type": "code",
   "execution_count": 255,
   "metadata": {
    "colab": {
     "base_uri": "https://localhost:8080/",
     "height": 424
    },
    "executionInfo": {
     "elapsed": 35,
     "status": "ok",
     "timestamp": 1664807941484,
     "user": {
      "displayName": "Hoàng Tiến Dương",
      "userId": "10873276387831537806"
     },
     "user_tz": -420
    },
    "id": "qM201Lmg0p5u",
    "outputId": "acb7f961-d519-4643-e94e-9bcace5c167d"
   },
   "outputs": [
    {
     "data": {
      "text/html": [
       "\n",
       "  <div id=\"df-0995d2d2-5384-42a1-901b-534ceb42dd9a\">\n",
       "    <div class=\"colab-df-container\">\n",
       "      <div>\n",
       "<style scoped>\n",
       "    .dataframe tbody tr th:only-of-type {\n",
       "        vertical-align: middle;\n",
       "    }\n",
       "\n",
       "    .dataframe tbody tr th {\n",
       "        vertical-align: top;\n",
       "    }\n",
       "\n",
       "    .dataframe thead th {\n",
       "        text-align: right;\n",
       "    }\n",
       "</style>\n",
       "<table border=\"1\" class=\"dataframe\">\n",
       "  <thead>\n",
       "    <tr style=\"text-align: right;\">\n",
       "      <th></th>\n",
       "      <th>Date</th>\n",
       "      <th>Customer_ID</th>\n",
       "      <th>Transaction_ID</th>\n",
       "      <th>SKU_Category</th>\n",
       "      <th>SKU</th>\n",
       "      <th>Quantity</th>\n",
       "      <th>Sales_Amount</th>\n",
       "    </tr>\n",
       "  </thead>\n",
       "  <tbody>\n",
       "    <tr>\n",
       "      <th>94079</th>\n",
       "      <td>13/10/2016</td>\n",
       "      <td>11158</td>\n",
       "      <td>49674</td>\n",
       "      <td>XG4</td>\n",
       "      <td>RC425</td>\n",
       "      <td>0.01</td>\n",
       "      <td>0.06</td>\n",
       "    </tr>\n",
       "    <tr>\n",
       "      <th>95734</th>\n",
       "      <td>17/10/2016</td>\n",
       "      <td>2186</td>\n",
       "      <td>50405</td>\n",
       "      <td>XG4</td>\n",
       "      <td>RC425</td>\n",
       "      <td>0.05</td>\n",
       "      <td>0.26</td>\n",
       "    </tr>\n",
       "    <tr>\n",
       "      <th>90817</th>\n",
       "      <td>06/10/2016</td>\n",
       "      <td>17922</td>\n",
       "      <td>48270</td>\n",
       "      <td>ZJG</td>\n",
       "      <td>CO8TB</td>\n",
       "      <td>0.10</td>\n",
       "      <td>7.80</td>\n",
       "    </tr>\n",
       "    <tr>\n",
       "      <th>105867</th>\n",
       "      <td>11/11/2016</td>\n",
       "      <td>21242</td>\n",
       "      <td>54906</td>\n",
       "      <td>ARZ</td>\n",
       "      <td>9DJOL</td>\n",
       "      <td>0.10</td>\n",
       "      <td>3.65</td>\n",
       "    </tr>\n",
       "    <tr>\n",
       "      <th>104974</th>\n",
       "      <td>09/11/2016</td>\n",
       "      <td>17294</td>\n",
       "      <td>54516</td>\n",
       "      <td>ARZ</td>\n",
       "      <td>9DJOL</td>\n",
       "      <td>0.10</td>\n",
       "      <td>3.65</td>\n",
       "    </tr>\n",
       "    <tr>\n",
       "      <th>...</th>\n",
       "      <td>...</td>\n",
       "      <td>...</td>\n",
       "      <td>...</td>\n",
       "      <td>...</td>\n",
       "      <td>...</td>\n",
       "      <td>...</td>\n",
       "      <td>...</td>\n",
       "    </tr>\n",
       "    <tr>\n",
       "      <th>113907</th>\n",
       "      <td>30/11/2016</td>\n",
       "      <td>11634</td>\n",
       "      <td>58440</td>\n",
       "      <td>XG4</td>\n",
       "      <td>MAJO7</td>\n",
       "      <td>200.00</td>\n",
       "      <td>15.00</td>\n",
       "    </tr>\n",
       "    <tr>\n",
       "      <th>118682</th>\n",
       "      <td>10/12/2016</td>\n",
       "      <td>16147</td>\n",
       "      <td>60457</td>\n",
       "      <td>H8O</td>\n",
       "      <td>CKDW0</td>\n",
       "      <td>200.00</td>\n",
       "      <td>8.18</td>\n",
       "    </tr>\n",
       "    <tr>\n",
       "      <th>121888</th>\n",
       "      <td>16/12/2016</td>\n",
       "      <td>18365</td>\n",
       "      <td>61798</td>\n",
       "      <td>H8O</td>\n",
       "      <td>CKDW0</td>\n",
       "      <td>200.00</td>\n",
       "      <td>8.18</td>\n",
       "    </tr>\n",
       "    <tr>\n",
       "      <th>112719</th>\n",
       "      <td>27/11/2016</td>\n",
       "      <td>1694</td>\n",
       "      <td>57951</td>\n",
       "      <td>H8O</td>\n",
       "      <td>CKDW0</td>\n",
       "      <td>300.00</td>\n",
       "      <td>12.27</td>\n",
       "    </tr>\n",
       "    <tr>\n",
       "      <th>77676</th>\n",
       "      <td>07/09/2016</td>\n",
       "      <td>19791</td>\n",
       "      <td>42595</td>\n",
       "      <td>H8O</td>\n",
       "      <td>CKDW0</td>\n",
       "      <td>400.00</td>\n",
       "      <td>16.37</td>\n",
       "    </tr>\n",
       "  </tbody>\n",
       "</table>\n",
       "<p>131706 rows × 7 columns</p>\n",
       "</div>\n",
       "      <button class=\"colab-df-convert\" onclick=\"convertToInteractive('df-0995d2d2-5384-42a1-901b-534ceb42dd9a')\"\n",
       "              title=\"Convert this dataframe to an interactive table.\"\n",
       "              style=\"display:none;\">\n",
       "        \n",
       "  <svg xmlns=\"http://www.w3.org/2000/svg\" height=\"24px\"viewBox=\"0 0 24 24\"\n",
       "       width=\"24px\">\n",
       "    <path d=\"M0 0h24v24H0V0z\" fill=\"none\"/>\n",
       "    <path d=\"M18.56 5.44l.94 2.06.94-2.06 2.06-.94-2.06-.94-.94-2.06-.94 2.06-2.06.94zm-11 1L8.5 8.5l.94-2.06 2.06-.94-2.06-.94L8.5 2.5l-.94 2.06-2.06.94zm10 10l.94 2.06.94-2.06 2.06-.94-2.06-.94-.94-2.06-.94 2.06-2.06.94z\"/><path d=\"M17.41 7.96l-1.37-1.37c-.4-.4-.92-.59-1.43-.59-.52 0-1.04.2-1.43.59L10.3 9.45l-7.72 7.72c-.78.78-.78 2.05 0 2.83L4 21.41c.39.39.9.59 1.41.59.51 0 1.02-.2 1.41-.59l7.78-7.78 2.81-2.81c.8-.78.8-2.07 0-2.86zM5.41 20L4 18.59l7.72-7.72 1.47 1.35L5.41 20z\"/>\n",
       "  </svg>\n",
       "      </button>\n",
       "      \n",
       "  <style>\n",
       "    .colab-df-container {\n",
       "      display:flex;\n",
       "      flex-wrap:wrap;\n",
       "      gap: 12px;\n",
       "    }\n",
       "\n",
       "    .colab-df-convert {\n",
       "      background-color: #E8F0FE;\n",
       "      border: none;\n",
       "      border-radius: 50%;\n",
       "      cursor: pointer;\n",
       "      display: none;\n",
       "      fill: #1967D2;\n",
       "      height: 32px;\n",
       "      padding: 0 0 0 0;\n",
       "      width: 32px;\n",
       "    }\n",
       "\n",
       "    .colab-df-convert:hover {\n",
       "      background-color: #E2EBFA;\n",
       "      box-shadow: 0px 1px 2px rgba(60, 64, 67, 0.3), 0px 1px 3px 1px rgba(60, 64, 67, 0.15);\n",
       "      fill: #174EA6;\n",
       "    }\n",
       "\n",
       "    [theme=dark] .colab-df-convert {\n",
       "      background-color: #3B4455;\n",
       "      fill: #D2E3FC;\n",
       "    }\n",
       "\n",
       "    [theme=dark] .colab-df-convert:hover {\n",
       "      background-color: #434B5C;\n",
       "      box-shadow: 0px 1px 3px 1px rgba(0, 0, 0, 0.15);\n",
       "      filter: drop-shadow(0px 1px 2px rgba(0, 0, 0, 0.3));\n",
       "      fill: #FFFFFF;\n",
       "    }\n",
       "  </style>\n",
       "\n",
       "      <script>\n",
       "        const buttonEl =\n",
       "          document.querySelector('#df-0995d2d2-5384-42a1-901b-534ceb42dd9a button.colab-df-convert');\n",
       "        buttonEl.style.display =\n",
       "          google.colab.kernel.accessAllowed ? 'block' : 'none';\n",
       "\n",
       "        async function convertToInteractive(key) {\n",
       "          const element = document.querySelector('#df-0995d2d2-5384-42a1-901b-534ceb42dd9a');\n",
       "          const dataTable =\n",
       "            await google.colab.kernel.invokeFunction('convertToInteractive',\n",
       "                                                     [key], {});\n",
       "          if (!dataTable) return;\n",
       "\n",
       "          const docLinkHtml = 'Like what you see? Visit the ' +\n",
       "            '<a target=\"_blank\" href=https://colab.research.google.com/notebooks/data_table.ipynb>data table notebook</a>'\n",
       "            + ' to learn more about interactive tables.';\n",
       "          element.innerHTML = '';\n",
       "          dataTable['output_type'] = 'display_data';\n",
       "          await google.colab.output.renderOutput(dataTable, element);\n",
       "          const docLink = document.createElement('div');\n",
       "          docLink.innerHTML = docLinkHtml;\n",
       "          element.appendChild(docLink);\n",
       "        }\n",
       "      </script>\n",
       "    </div>\n",
       "  </div>\n",
       "  "
      ],
      "text/plain": [
       "              Date  Customer_ID  Transaction_ID SKU_Category    SKU  Quantity  \\\n",
       "94079   13/10/2016        11158           49674          XG4  RC425      0.01   \n",
       "95734   17/10/2016         2186           50405          XG4  RC425      0.05   \n",
       "90817   06/10/2016        17922           48270          ZJG  CO8TB      0.10   \n",
       "105867  11/11/2016        21242           54906          ARZ  9DJOL      0.10   \n",
       "104974  09/11/2016        17294           54516          ARZ  9DJOL      0.10   \n",
       "...            ...          ...             ...          ...    ...       ...   \n",
       "113907  30/11/2016        11634           58440          XG4  MAJO7    200.00   \n",
       "118682  10/12/2016        16147           60457          H8O  CKDW0    200.00   \n",
       "121888  16/12/2016        18365           61798          H8O  CKDW0    200.00   \n",
       "112719  27/11/2016         1694           57951          H8O  CKDW0    300.00   \n",
       "77676   07/09/2016        19791           42595          H8O  CKDW0    400.00   \n",
       "\n",
       "        Sales_Amount  \n",
       "94079           0.06  \n",
       "95734           0.26  \n",
       "90817           7.80  \n",
       "105867          3.65  \n",
       "104974          3.65  \n",
       "...              ...  \n",
       "113907         15.00  \n",
       "118682          8.18  \n",
       "121888          8.18  \n",
       "112719         12.27  \n",
       "77676          16.37  \n",
       "\n",
       "[131706 rows x 7 columns]"
      ]
     },
     "execution_count": 255,
     "metadata": {},
     "output_type": "execute_result"
    }
   ],
   "source": [
    "data.sort_values(by='Quantity', ascending=True)"
   ]
  },
  {
   "cell_type": "code",
   "execution_count": 256,
   "metadata": {
    "colab": {
     "base_uri": "https://localhost:8080/"
    },
    "executionInfo": {
     "elapsed": 34,
     "status": "ok",
     "timestamp": 1664807941484,
     "user": {
      "displayName": "Hoàng Tiến Dương",
      "userId": "10873276387831537806"
     },
     "user_tz": -420
    },
    "id": "MV-TZGFI2i_u",
    "outputId": "10e014d6-51d0-4b2f-98a1-4b6af453c669"
   },
   "outputs": [
    {
     "data": {
      "text/plain": [
       "(22625,)"
      ]
     },
     "execution_count": 256,
     "metadata": {},
     "output_type": "execute_result"
    }
   ],
   "source": [
    "data['Customer_ID'].unique().shape"
   ]
  },
  {
   "cell_type": "code",
   "execution_count": 257,
   "metadata": {
    "colab": {
     "base_uri": "https://localhost:8080/"
    },
    "executionInfo": {
     "elapsed": 32,
     "status": "ok",
     "timestamp": 1664807941484,
     "user": {
      "displayName": "Hoàng Tiến Dương",
      "userId": "10873276387831537806"
     },
     "user_tz": -420
    },
    "id": "4Yf7BVS723Y-",
    "outputId": "aca6eb01-fac1-4031-d65b-34bcff4b6873"
   },
   "outputs": [
    {
     "data": {
      "text/plain": [
       "(64682,)"
      ]
     },
     "execution_count": 257,
     "metadata": {},
     "output_type": "execute_result"
    }
   ],
   "source": [
    "data['Transaction_ID'].unique().shape"
   ]
  },
  {
   "cell_type": "markdown",
   "metadata": {
    "id": "BxK4StMI3boy"
   },
   "source": [
    "Có tất cả 22652 khách hàng và 64682 giao dịch"
   ]
  },
  {
   "cell_type": "code",
   "execution_count": 258,
   "metadata": {
    "executionInfo": {
     "elapsed": 31,
     "status": "ok",
     "timestamp": 1664807941485,
     "user": {
      "displayName": "Hoàng Tiến Dương",
      "userId": "10873276387831537806"
     },
     "user_tz": -420
    },
    "id": "utB5d6YzeEYr"
   },
   "outputs": [],
   "source": [
    "count_transactions =  data.groupby(['SKU', 'SKU_Category'])['Transaction_ID'].count().reset_index()\n",
    "count_transactions = count_transactions.sort_values(by='Transaction_ID')"
   ]
  },
  {
   "cell_type": "code",
   "execution_count": 259,
   "metadata": {
    "colab": {
     "base_uri": "https://localhost:8080/",
     "height": 206
    },
    "executionInfo": {
     "elapsed": 30,
     "status": "ok",
     "timestamp": 1664807941485,
     "user": {
      "displayName": "Hoàng Tiến Dương",
      "userId": "10873276387831537806"
     },
     "user_tz": -420
    },
    "id": "BcEo5MjqfHpo",
    "outputId": "7c291b0f-a864-4194-da1d-66541c1db82d"
   },
   "outputs": [
    {
     "data": {
      "text/html": [
       "\n",
       "  <div id=\"df-c2f3acaf-4c58-44b4-8a84-8e2e908edd5a\">\n",
       "    <div class=\"colab-df-container\">\n",
       "      <div>\n",
       "<style scoped>\n",
       "    .dataframe tbody tr th:only-of-type {\n",
       "        vertical-align: middle;\n",
       "    }\n",
       "\n",
       "    .dataframe tbody tr th {\n",
       "        vertical-align: top;\n",
       "    }\n",
       "\n",
       "    .dataframe thead th {\n",
       "        text-align: right;\n",
       "    }\n",
       "</style>\n",
       "<table border=\"1\" class=\"dataframe\">\n",
       "  <thead>\n",
       "    <tr style=\"text-align: right;\">\n",
       "      <th></th>\n",
       "      <th>SKU</th>\n",
       "      <th>SKU_Category</th>\n",
       "      <th>Transaction_ID</th>\n",
       "    </tr>\n",
       "  </thead>\n",
       "  <tbody>\n",
       "    <tr>\n",
       "      <th>5241</th>\n",
       "      <td>ZZX6K</td>\n",
       "      <td>3MC</td>\n",
       "      <td>1</td>\n",
       "    </tr>\n",
       "    <tr>\n",
       "      <th>2894</th>\n",
       "      <td>JPYDA</td>\n",
       "      <td>SIM</td>\n",
       "      <td>1</td>\n",
       "    </tr>\n",
       "    <tr>\n",
       "      <th>2897</th>\n",
       "      <td>JQV7D</td>\n",
       "      <td>ZYU</td>\n",
       "      <td>1</td>\n",
       "    </tr>\n",
       "    <tr>\n",
       "      <th>2898</th>\n",
       "      <td>JR1RQ</td>\n",
       "      <td>0KX</td>\n",
       "      <td>1</td>\n",
       "    </tr>\n",
       "    <tr>\n",
       "      <th>897</th>\n",
       "      <td>60LOD</td>\n",
       "      <td>29A</td>\n",
       "      <td>1</td>\n",
       "    </tr>\n",
       "  </tbody>\n",
       "</table>\n",
       "</div>\n",
       "      <button class=\"colab-df-convert\" onclick=\"convertToInteractive('df-c2f3acaf-4c58-44b4-8a84-8e2e908edd5a')\"\n",
       "              title=\"Convert this dataframe to an interactive table.\"\n",
       "              style=\"display:none;\">\n",
       "        \n",
       "  <svg xmlns=\"http://www.w3.org/2000/svg\" height=\"24px\"viewBox=\"0 0 24 24\"\n",
       "       width=\"24px\">\n",
       "    <path d=\"M0 0h24v24H0V0z\" fill=\"none\"/>\n",
       "    <path d=\"M18.56 5.44l.94 2.06.94-2.06 2.06-.94-2.06-.94-.94-2.06-.94 2.06-2.06.94zm-11 1L8.5 8.5l.94-2.06 2.06-.94-2.06-.94L8.5 2.5l-.94 2.06-2.06.94zm10 10l.94 2.06.94-2.06 2.06-.94-2.06-.94-.94-2.06-.94 2.06-2.06.94z\"/><path d=\"M17.41 7.96l-1.37-1.37c-.4-.4-.92-.59-1.43-.59-.52 0-1.04.2-1.43.59L10.3 9.45l-7.72 7.72c-.78.78-.78 2.05 0 2.83L4 21.41c.39.39.9.59 1.41.59.51 0 1.02-.2 1.41-.59l7.78-7.78 2.81-2.81c.8-.78.8-2.07 0-2.86zM5.41 20L4 18.59l7.72-7.72 1.47 1.35L5.41 20z\"/>\n",
       "  </svg>\n",
       "      </button>\n",
       "      \n",
       "  <style>\n",
       "    .colab-df-container {\n",
       "      display:flex;\n",
       "      flex-wrap:wrap;\n",
       "      gap: 12px;\n",
       "    }\n",
       "\n",
       "    .colab-df-convert {\n",
       "      background-color: #E8F0FE;\n",
       "      border: none;\n",
       "      border-radius: 50%;\n",
       "      cursor: pointer;\n",
       "      display: none;\n",
       "      fill: #1967D2;\n",
       "      height: 32px;\n",
       "      padding: 0 0 0 0;\n",
       "      width: 32px;\n",
       "    }\n",
       "\n",
       "    .colab-df-convert:hover {\n",
       "      background-color: #E2EBFA;\n",
       "      box-shadow: 0px 1px 2px rgba(60, 64, 67, 0.3), 0px 1px 3px 1px rgba(60, 64, 67, 0.15);\n",
       "      fill: #174EA6;\n",
       "    }\n",
       "\n",
       "    [theme=dark] .colab-df-convert {\n",
       "      background-color: #3B4455;\n",
       "      fill: #D2E3FC;\n",
       "    }\n",
       "\n",
       "    [theme=dark] .colab-df-convert:hover {\n",
       "      background-color: #434B5C;\n",
       "      box-shadow: 0px 1px 3px 1px rgba(0, 0, 0, 0.15);\n",
       "      filter: drop-shadow(0px 1px 2px rgba(0, 0, 0, 0.3));\n",
       "      fill: #FFFFFF;\n",
       "    }\n",
       "  </style>\n",
       "\n",
       "      <script>\n",
       "        const buttonEl =\n",
       "          document.querySelector('#df-c2f3acaf-4c58-44b4-8a84-8e2e908edd5a button.colab-df-convert');\n",
       "        buttonEl.style.display =\n",
       "          google.colab.kernel.accessAllowed ? 'block' : 'none';\n",
       "\n",
       "        async function convertToInteractive(key) {\n",
       "          const element = document.querySelector('#df-c2f3acaf-4c58-44b4-8a84-8e2e908edd5a');\n",
       "          const dataTable =\n",
       "            await google.colab.kernel.invokeFunction('convertToInteractive',\n",
       "                                                     [key], {});\n",
       "          if (!dataTable) return;\n",
       "\n",
       "          const docLinkHtml = 'Like what you see? Visit the ' +\n",
       "            '<a target=\"_blank\" href=https://colab.research.google.com/notebooks/data_table.ipynb>data table notebook</a>'\n",
       "            + ' to learn more about interactive tables.';\n",
       "          element.innerHTML = '';\n",
       "          dataTable['output_type'] = 'display_data';\n",
       "          await google.colab.output.renderOutput(dataTable, element);\n",
       "          const docLink = document.createElement('div');\n",
       "          docLink.innerHTML = docLinkHtml;\n",
       "          element.appendChild(docLink);\n",
       "        }\n",
       "      </script>\n",
       "    </div>\n",
       "  </div>\n",
       "  "
      ],
      "text/plain": [
       "        SKU SKU_Category  Transaction_ID\n",
       "5241  ZZX6K          3MC               1\n",
       "2894  JPYDA          SIM               1\n",
       "2897  JQV7D          ZYU               1\n",
       "2898  JR1RQ          0KX               1\n",
       "897   60LOD          29A               1"
      ]
     },
     "execution_count": 259,
     "metadata": {},
     "output_type": "execute_result"
    }
   ],
   "source": [
    "count_transactions.head()"
   ]
  },
  {
   "cell_type": "code",
   "execution_count": 260,
   "metadata": {
    "colab": {
     "base_uri": "https://localhost:8080/",
     "height": 514
    },
    "executionInfo": {
     "elapsed": 29,
     "status": "ok",
     "timestamp": 1664807941485,
     "user": {
      "displayName": "Hoàng Tiến Dương",
      "userId": "10873276387831537806"
     },
     "user_tz": -420
    },
    "id": "9CaQdgOHjeSy",
    "outputId": "b358b845-40cb-45bb-96a5-1d55b9fe79bd"
   },
   "outputs": [
    {
     "data": {
      "image/png": "[encoded data removed]",
      "text/plain": [
       "<Figure size 1080x576 with 1 Axes>"
      ]
     },
     "metadata": {
      "needs_background": "light"
     },
     "output_type": "display_data"
    }
   ],
   "source": [
    "plt.figure(figsize=(15,8))\n",
    "sns.barplot(data=count_transactions[:15], x='SKU', y='Transaction_ID')\n",
    "plt.title('15 sản phẩm mua ít nhất')\n",
    "plt.show()"
   ]
  },
  {
   "cell_type": "code",
   "execution_count": 261,
   "metadata": {
    "colab": {
     "base_uri": "https://localhost:8080/",
     "height": 514
    },
    "executionInfo": {
     "elapsed": 902,
     "status": "ok",
     "timestamp": 1664807942360,
     "user": {
      "displayName": "Hoàng Tiến Dương",
      "userId": "10873276387831537806"
     },
     "user_tz": -420
    },
    "id": "_JyxLVcqjsMk",
    "outputId": "d436485b-1b00-4a76-aaa7-6198b956cc79"
   },
   "outputs": [
    {
     "data": {
      "image/png": "[encoded data removed]",
      "text/plain": [
       "<Figure size 1080x576 with 1 Axes>"
      ]
     },
     "metadata": {
      "needs_background": "light"
     },
     "output_type": "display_data"
    }
   ],
   "source": [
    "plt.figure(figsize=(15,8))\n",
    "sns.barplot(data=count_transactions[-15:], x='SKU', y='Transaction_ID')\n",
    "plt.title('15 sản phẩm mua nhiều nhất')\n",
    "plt.show()"
   ]
  },
  {
   "cell_type": "code",
   "execution_count": 262,
   "metadata": {
    "colab": {
     "base_uri": "https://localhost:8080/"
    },
    "executionInfo": {
     "elapsed": 17,
     "status": "ok",
     "timestamp": 1664807942361,
     "user": {
      "displayName": "Hoàng Tiến Dương",
      "userId": "10873276387831537806"
     },
     "user_tz": -420
    },
    "id": "8Ik4kGlK62aK",
    "outputId": "6b66c056-a8b0-4119-fe64-cddb880ce5e5"
   },
   "outputs": [
    {
     "data": {
      "text/plain": [
       "['ZZX6K',\n",
       " 'JPYDA',\n",
       " 'JQV7D',\n",
       " 'JR1RQ',\n",
       " '60LOD',\n",
       " 'JS2WO',\n",
       " 'JTITJ',\n",
       " 'JU6EL',\n",
       " '5ZEM3',\n",
       " 'JV6SF',\n",
       " 'JVUEZ',\n",
       " 'JVZ42',\n",
       " 'JWO6D',\n",
       " 'JX3AX',\n",
       " 'JXYRF',\n",
       " 'JXZPR',\n",
       " 'JOJ2A',\n",
       " 'K1LR5',\n",
       " 'JNIRX',\n",
       " '62OG1']"
      ]
     },
     "execution_count": 262,
     "metadata": {},
     "output_type": "execute_result"
    }
   ],
   "source": [
    "# các sản phẩm chỉ có một lượt mua\n",
    "less_products = count_transactions[count_transactions['Transaction_ID']==1]['SKU'].to_list()\n",
    "less_products[0:20]"
   ]
  },
  {
   "cell_type": "code",
   "execution_count": 263,
   "metadata": {
    "executionInfo": {
     "elapsed": 15,
     "status": "ok",
     "timestamp": 1664807942361,
     "user": {
      "displayName": "Hoàng Tiến Dương",
      "userId": "10873276387831537806"
     },
     "user_tz": -420
    },
    "id": "DlJPpc0a8meM"
   },
   "outputs": [],
   "source": [
    "data = data.set_index('SKU')\n",
    "data = data.drop(index=less_products, axis=0)"
   ]
  },
  {
   "cell_type": "code",
   "execution_count": 264,
   "metadata": {
    "colab": {
     "base_uri": "https://localhost:8080/"
    },
    "executionInfo": {
     "elapsed": 14,
     "status": "ok",
     "timestamp": 1664807942362,
     "user": {
      "displayName": "Hoàng Tiến Dương",
      "userId": "10873276387831537806"
     },
     "user_tz": -420
    },
    "id": "8FAftZG_9qhG",
    "outputId": "abc8a121-cacb-422f-9ef4-46b5e9ea6e23"
   },
   "outputs": [
    {
     "data": {
      "text/plain": [
       "(130630, 6)"
      ]
     },
     "execution_count": 264,
     "metadata": {},
     "output_type": "execute_result"
    }
   ],
   "source": [
    "data.shape"
   ]
  },
  {
   "cell_type": "code",
   "execution_count": 265,
   "metadata": {
    "executionInfo": {
     "elapsed": 11,
     "status": "ok",
     "timestamp": 1664807942363,
     "user": {
      "displayName": "Hoàng Tiến Dương",
      "userId": "10873276387831537806"
     },
     "user_tz": -420
    },
    "id": "5tPwj48E9yon"
   },
   "outputs": [],
   "source": [
    "data = data.reset_index()"
   ]
  },
  {
   "cell_type": "code",
   "execution_count": 266,
   "metadata": {
    "executionInfo": {
     "elapsed": 11,
     "status": "ok",
     "timestamp": 1664807942363,
     "user": {
      "displayName": "Hoàng Tiến Dương",
      "userId": "10873276387831537806"
     },
     "user_tz": -420
    },
    "id": "9S25Hg7wkrfe"
   },
   "outputs": [],
   "source": [
    "data['Date'] = data['Date'].astype('datetime64')"
   ]
  },
  {
   "cell_type": "code",
   "execution_count": 267,
   "metadata": {
    "executionInfo": {
     "elapsed": 487,
     "status": "ok",
     "timestamp": 1664807942840,
     "user": {
      "displayName": "Hoàng Tiến Dương",
      "userId": "10873276387831537806"
     },
     "user_tz": -420
    },
    "id": "891_94lApsKs"
   },
   "outputs": [],
   "source": [
    "Transactions = data.groupby('Transaction_ID')['SKU'].apply(lambda x: ' '.join(x))"
   ]
  },
  {
   "cell_type": "code",
   "execution_count": 268,
   "metadata": {
    "colab": {
     "base_uri": "https://localhost:8080/"
    },
    "executionInfo": {
     "elapsed": 17,
     "status": "ok",
     "timestamp": 1664807942841,
     "user": {
      "displayName": "Hoàng Tiến Dương",
      "userId": "10873276387831537806"
     },
     "user_tz": -420
    },
    "id": "BGhgViOW-4Vq",
    "outputId": "3a2a5052-7522-4237-f7a3-22a6bc081488"
   },
   "outputs": [
    {
     "data": {
      "text/plain": [
       "(64217,)"
      ]
     },
     "execution_count": 268,
     "metadata": {},
     "output_type": "execute_result"
    }
   ],
   "source": [
    "Transactions.shape"
   ]
  },
  {
   "cell_type": "code",
   "execution_count": 269,
   "metadata": {
    "colab": {
     "base_uri": "https://localhost:8080/"
    },
    "executionInfo": {
     "elapsed": 15,
     "status": "ok",
     "timestamp": 1664807942841,
     "user": {
      "displayName": "Hoàng Tiến Dương",
      "userId": "10873276387831537806"
     },
     "user_tz": -420
    },
    "id": "kmYhBu0n-rRX",
    "outputId": "292f873e-fc6b-4deb-8a0d-4523dd58affd"
   },
   "outputs": [
    {
     "data": {
      "text/plain": [
       "32022"
      ]
     },
     "execution_count": 269,
     "metadata": {},
     "output_type": "execute_result"
    }
   ],
   "source": [
    "Transactions.duplicated().sum()"
   ]
  },
  {
   "cell_type": "code",
   "execution_count": 270,
   "metadata": {
    "executionInfo": {
     "elapsed": 13,
     "status": "ok",
     "timestamp": 1664807942842,
     "user": {
      "displayName": "Hoàng Tiến Dương",
      "userId": "10873276387831537806"
     },
     "user_tz": -420
    },
    "id": "y-SowoP3--8w"
   },
   "outputs": [],
   "source": [
    "Transactions = Transactions.drop_duplicates()"
   ]
  },
  {
   "cell_type": "code",
   "execution_count": 271,
   "metadata": {
    "colab": {
     "base_uri": "https://localhost:8080/"
    },
    "executionInfo": {
     "elapsed": 12,
     "status": "ok",
     "timestamp": 1664807942842,
     "user": {
      "displayName": "Hoàng Tiến Dương",
      "userId": "10873276387831537806"
     },
     "user_tz": -420
    },
    "id": "X2raS5xb_DB4",
    "outputId": "07262cc3-2a57-450d-9d69-fd4faf94f596"
   },
   "outputs": [
    {
     "data": {
      "text/plain": [
       "(32195,)"
      ]
     },
     "execution_count": 271,
     "metadata": {},
     "output_type": "execute_result"
    }
   ],
   "source": [
    "Transactions.shape"
   ]
  },
  {
   "cell_type": "code",
   "execution_count": 272,
   "metadata": {
    "colab": {
     "base_uri": "https://localhost:8080/",
     "height": 424
    },
    "executionInfo": {
     "elapsed": 9,
     "status": "ok",
     "timestamp": 1664807942842,
     "user": {
      "displayName": "Hoàng Tiến Dương",
      "userId": "10873276387831537806"
     },
     "user_tz": -420
    },
    "id": "cJnmpYUG_MX7",
    "outputId": "26bda009-d15c-49d9-9a3b-99182ddc772a"
   },
   "outputs": [
    {
     "data": {
      "text/html": [
       "\n",
       "  <div id=\"df-02bfac32-a58d-41bd-be9a-1cc027c82c50\">\n",
       "    <div class=\"colab-df-container\">\n",
       "      <div>\n",
       "<style scoped>\n",
       "    .dataframe tbody tr th:only-of-type {\n",
       "        vertical-align: middle;\n",
       "    }\n",
       "\n",
       "    .dataframe tbody tr th {\n",
       "        vertical-align: top;\n",
       "    }\n",
       "\n",
       "    .dataframe thead th {\n",
       "        text-align: right;\n",
       "    }\n",
       "</style>\n",
       "<table border=\"1\" class=\"dataframe\">\n",
       "  <thead>\n",
       "    <tr style=\"text-align: right;\">\n",
       "      <th></th>\n",
       "      <th>Transaction_ID</th>\n",
       "      <th>SKU</th>\n",
       "    </tr>\n",
       "  </thead>\n",
       "  <tbody>\n",
       "    <tr>\n",
       "      <th>0</th>\n",
       "      <td>1</td>\n",
       "      <td>0EM7L</td>\n",
       "    </tr>\n",
       "    <tr>\n",
       "      <th>1</th>\n",
       "      <td>2</td>\n",
       "      <td>68BRQ</td>\n",
       "    </tr>\n",
       "    <tr>\n",
       "      <th>2</th>\n",
       "      <td>3</td>\n",
       "      <td>CZUZX</td>\n",
       "    </tr>\n",
       "    <tr>\n",
       "      <th>3</th>\n",
       "      <td>4</td>\n",
       "      <td>549KK</td>\n",
       "    </tr>\n",
       "    <tr>\n",
       "      <th>4</th>\n",
       "      <td>5</td>\n",
       "      <td>K8EHH</td>\n",
       "    </tr>\n",
       "    <tr>\n",
       "      <th>...</th>\n",
       "      <td>...</td>\n",
       "      <td>...</td>\n",
       "    </tr>\n",
       "    <tr>\n",
       "      <th>32190</th>\n",
       "      <td>64674</td>\n",
       "      <td>F7FQ5 GZWZR</td>\n",
       "    </tr>\n",
       "    <tr>\n",
       "      <th>32191</th>\n",
       "      <td>64675</td>\n",
       "      <td>Y6DHV 7GQRJ E2REV</td>\n",
       "    </tr>\n",
       "    <tr>\n",
       "      <th>32192</th>\n",
       "      <td>64676</td>\n",
       "      <td>7QUXS C7BXJ</td>\n",
       "    </tr>\n",
       "    <tr>\n",
       "      <th>32193</th>\n",
       "      <td>64677</td>\n",
       "      <td>UNJKW 0V9JD</td>\n",
       "    </tr>\n",
       "    <tr>\n",
       "      <th>32194</th>\n",
       "      <td>64679</td>\n",
       "      <td>JJ9FT XJLWY</td>\n",
       "    </tr>\n",
       "  </tbody>\n",
       "</table>\n",
       "<p>32195 rows × 2 columns</p>\n",
       "</div>\n",
       "      <button class=\"colab-df-convert\" onclick=\"convertToInteractive('df-02bfac32-a58d-41bd-be9a-1cc027c82c50')\"\n",
       "              title=\"Convert this dataframe to an interactive table.\"\n",
       "              style=\"display:none;\">\n",
       "        \n",
       "  <svg xmlns=\"http://www.w3.org/2000/svg\" height=\"24px\"viewBox=\"0 0 24 24\"\n",
       "       width=\"24px\">\n",
       "    <path d=\"M0 0h24v24H0V0z\" fill=\"none\"/>\n",
       "    <path d=\"M18.56 5.44l.94 2.06.94-2.06 2.06-.94-2.06-.94-.94-2.06-.94 2.06-2.06.94zm-11 1L8.5 8.5l.94-2.06 2.06-.94-2.06-.94L8.5 2.5l-.94 2.06-2.06.94zm10 10l.94 2.06.94-2.06 2.06-.94-2.06-.94-.94-2.06-.94 2.06-2.06.94z\"/><path d=\"M17.41 7.96l-1.37-1.37c-.4-.4-.92-.59-1.43-.59-.52 0-1.04.2-1.43.59L10.3 9.45l-7.72 7.72c-.78.78-.78 2.05 0 2.83L4 21.41c.39.39.9.59 1.41.59.51 0 1.02-.2 1.41-.59l7.78-7.78 2.81-2.81c.8-.78.8-2.07 0-2.86zM5.41 20L4 18.59l7.72-7.72 1.47 1.35L5.41 20z\"/>\n",
       "  </svg>\n",
       "      </button>\n",
       "      \n",
       "  <style>\n",
       "    .colab-df-container {\n",
       "      display:flex;\n",
       "      flex-wrap:wrap;\n",
       "      gap: 12px;\n",
       "    }\n",
       "\n",
       "    .colab-df-convert {\n",
       "      background-color: #E8F0FE;\n",
       "      border: none;\n",
       "      border-radius: 50%;\n",
       "      cursor: pointer;\n",
       "      display: none;\n",
       "      fill: #1967D2;\n",
       "      height: 32px;\n",
       "      padding: 0 0 0 0;\n",
       "      width: 32px;\n",
       "    }\n",
       "\n",
       "    .colab-df-convert:hover {\n",
       "      background-color: #E2EBFA;\n",
       "      box-shadow: 0px 1px 2px rgba(60, 64, 67, 0.3), 0px 1px 3px 1px rgba(60, 64, 67, 0.15);\n",
       "      fill: #174EA6;\n",
       "    }\n",
       "\n",
       "    [theme=dark] .colab-df-convert {\n",
       "      background-color: #3B4455;\n",
       "      fill: #D2E3FC;\n",
       "    }\n",
       "\n",
       "    [theme=dark] .colab-df-convert:hover {\n",
       "      background-color: #434B5C;\n",
       "      box-shadow: 0px 1px 3px 1px rgba(0, 0, 0, 0.15);\n",
       "      filter: drop-shadow(0px 1px 2px rgba(0, 0, 0, 0.3));\n",
       "      fill: #FFFFFF;\n",
       "    }\n",
       "  </style>\n",
       "\n",
       "      <script>\n",
       "        const buttonEl =\n",
       "          document.querySelector('#df-02bfac32-a58d-41bd-be9a-1cc027c82c50 button.colab-df-convert');\n",
       "        buttonEl.style.display =\n",
       "          google.colab.kernel.accessAllowed ? 'block' : 'none';\n",
       "\n",
       "        async function convertToInteractive(key) {\n",
       "          const element = document.querySelector('#df-02bfac32-a58d-41bd-be9a-1cc027c82c50');\n",
       "          const dataTable =\n",
       "            await google.colab.kernel.invokeFunction('convertToInteractive',\n",
       "                                                     [key], {});\n",
       "          if (!dataTable) return;\n",
       "\n",
       "          const docLinkHtml = 'Like what you see? Visit the ' +\n",
       "            '<a target=\"_blank\" href=https://colab.research.google.com/notebooks/data_table.ipynb>data table notebook</a>'\n",
       "            + ' to learn more about interactive tables.';\n",
       "          element.innerHTML = '';\n",
       "          dataTable['output_type'] = 'display_data';\n",
       "          await google.colab.output.renderOutput(dataTable, element);\n",
       "          const docLink = document.createElement('div');\n",
       "          docLink.innerHTML = docLinkHtml;\n",
       "          element.appendChild(docLink);\n",
       "        }\n",
       "      </script>\n",
       "    </div>\n",
       "  </div>\n",
       "  "
      ],
      "text/plain": [
       "       Transaction_ID                SKU\n",
       "0                   1              0EM7L\n",
       "1                   2              68BRQ\n",
       "2                   3              CZUZX\n",
       "3                   4              549KK\n",
       "4                   5              K8EHH\n",
       "...               ...                ...\n",
       "32190           64674        F7FQ5 GZWZR\n",
       "32191           64675  Y6DHV 7GQRJ E2REV\n",
       "32192           64676        7QUXS C7BXJ\n",
       "32193           64677        UNJKW 0V9JD\n",
       "32194           64679        JJ9FT XJLWY\n",
       "\n",
       "[32195 rows x 2 columns]"
      ]
     },
     "execution_count": 272,
     "metadata": {},
     "output_type": "execute_result"
    }
   ],
   "source": [
    "Transactions.reset_index()"
   ]
  },
  {
   "cell_type": "code",
   "execution_count": 273,
   "metadata": {
    "executionInfo": {
     "elapsed": 8,
     "status": "ok",
     "timestamp": 1664807942842,
     "user": {
      "displayName": "Hoàng Tiến Dương",
      "userId": "10873276387831537806"
     },
     "user_tz": -420
    },
    "id": "g9QsgoUWst8v"
   },
   "outputs": [],
   "source": [
    "Transactions = Transactions.to_list()"
   ]
  },
  {
   "cell_type": "code",
   "execution_count": 274,
   "metadata": {
    "executionInfo": {
     "elapsed": 573,
     "status": "ok",
     "timestamp": 1664807943407,
     "user": {
      "displayName": "Hoàng Tiến Dương",
      "userId": "10873276387831537806"
     },
     "user_tz": -420
    },
    "id": "D1Jivdlywv7-"
   },
   "outputs": [],
   "source": [
    "Transactions_new = []\n",
    "for transaction in Transactions:\n",
    "  lst = transaction.split(' ')\n",
    "  if len(lst) > 2:\n",
    "    Transactions_new.append(lst)"
   ]
  },
  {
   "cell_type": "code",
   "execution_count": 275,
   "metadata": {
    "colab": {
     "base_uri": "https://localhost:8080/"
    },
    "executionInfo": {
     "elapsed": 16,
     "status": "ok",
     "timestamp": 1664807943408,
     "user": {
      "displayName": "Hoàng Tiến Dương",
      "userId": "10873276387831537806"
     },
     "user_tz": -420
    },
    "id": "l8BBvkKQxOFj",
    "outputId": "55c33331-9ce1-41fe-d98a-fc6861730eb4"
   },
   "outputs": [
    {
     "data": {
      "text/plain": [
       "[['4PLF3', 'W9RKF', '520UE'],\n",
       " ['YIM6C', '8D73U', 'EMJ1S', 'F90L2'],\n",
       " ['T5V5W', 'RBNO8', 'RVZ6I'],\n",
       " ['RZW8B', '4TTS2', 'AEKO3'],\n",
       " ['CERTN', 'ZDSYK', 'F64H7'],\n",
       " ['JJ9FT', '23Y9E', '25CJ5'],\n",
       " ['AK33R', 'F64H7', 'RH5J5'],\n",
       " ['7YTSF', '9XQSN', 'SANGZ', 'BKQSZ'],\n",
       " ['4EKR9', '9FTYM', 'ZP7RI', 'MKV69', 'Z0UBN'],\n",
       " ['14V9T', 'COWU2', 'M3SY1', 'UCK6F'],\n",
       " ['VKMQ4', 'ZRKHN', 'UNJKW'],\n",
       " ['FV49E', '1XG54', '0TLU5'],\n",
       " ['4BPPU',\n",
       "  'LPLTZ',\n",
       "  'TL4WZ',\n",
       "  'PV9XZ',\n",
       "  'MM77N',\n",
       "  'U4XSE',\n",
       "  'NOKHJ',\n",
       "  '9F8O1',\n",
       "  'NZQS5',\n",
       "  'GYQNP'],\n",
       " ['7QUXS', 'H87RV', 'MYQAP'],\n",
       " ['Y1M2E', 'WHV3G', 'WALAE'],\n",
       " ['DLFQW', 'F90L2', 'LKDTY'],\n",
       " ['81AIS', 'ZDSYK', 'DUV2Y'],\n",
       " ['IPVE6', 'LGDUB', '1MR3E', '1LGSE', '51OBI', 'LQ555', 'RBNO8', '89ULV'],\n",
       " ['68BRQ', 'NZY1K', 'WK41K', 'VWUC7'],\n",
       " ['OV1P9', '3220G', 'OXMKW', 'EEQQ0'],\n",
       " ['3220G', 'L9X5Q', 'BK9BM'],\n",
       " ['J93NR', 'UNJKW', 'EMJ1S'],\n",
       " ['N0RAF', 'CC028', 'PQ7MM'],\n",
       " ['NPV8G', 'Z2AX9', 'M93I3', 'DUWYY'],\n",
       " ['M4TM4', 'MYO3P', '0BXVJ', 'XQBTK'],\n",
       " ['Q4ZAD', 'OV1P9', '15PXV'],\n",
       " ['7YOPV', 'UNJKW', 'UCK6F'],\n",
       " ['75L4V', 'WALAE', 'WINPO'],\n",
       " ['A59HR', 'VWUC7', 'I9SAW'],\n",
       " ['CZUZX', 'D9QKE', 'XJLWY']]"
      ]
     },
     "execution_count": 275,
     "metadata": {},
     "output_type": "execute_result"
    }
   ],
   "source": [
    "Transactions_new[0:30]"
   ]
  },
  {
   "cell_type": "code",
   "execution_count": 276,
   "metadata": {
    "colab": {
     "base_uri": "https://localhost:8080/"
    },
    "executionInfo": {
     "elapsed": 13,
     "status": "ok",
     "timestamp": 1664807943408,
     "user": {
      "displayName": "Hoàng Tiến Dương",
      "userId": "10873276387831537806"
     },
     "user_tz": -420
    },
    "id": "CDE5pTN7BbuS",
    "outputId": "e51ebc22-0047-4f37-92ef-81987eea474b"
   },
   "outputs": [
    {
     "data": {
      "text/plain": [
       "14451"
      ]
     },
     "execution_count": 276,
     "metadata": {},
     "output_type": "execute_result"
    }
   ],
   "source": [
    "len(Transactions_new)"
   ]
  },
  {
   "cell_type": "code",
   "execution_count": 277,
   "metadata": {
    "executionInfo": {
     "elapsed": 9,
     "status": "ok",
     "timestamp": 1664807943408,
     "user": {
      "displayName": "Hoàng Tiến Dương",
      "userId": "10873276387831537806"
     },
     "user_tz": -420
    },
    "id": "N8gHd_z5xRK6"
   },
   "outputs": [],
   "source": [
    "from mlxtend.preprocessing import TransactionEncoder\n",
    "from mlxtend.frequent_patterns import apriori"
   ]
  },
  {
   "cell_type": "code",
   "execution_count": 278,
   "metadata": {
    "executionInfo": {
     "elapsed": 10,
     "status": "ok",
     "timestamp": 1664807943409,
     "user": {
      "displayName": "Hoàng Tiến Dương",
      "userId": "10873276387831537806"
     },
     "user_tz": -420
    },
    "id": "V4UJi1IGx36e"
   },
   "outputs": [],
   "source": [
    "te = TransactionEncoder()"
   ]
  },
  {
   "cell_type": "code",
   "execution_count": 279,
   "metadata": {
    "executionInfo": {
     "elapsed": 10,
     "status": "ok",
     "timestamp": 1664807943409,
     "user": {
      "displayName": "Hoàng Tiến Dương",
      "userId": "10873276387831537806"
     },
     "user_tz": -420
    },
    "id": "0hFbbrbayUNp"
   },
   "outputs": [],
   "source": [
    "te_ary = te.fit_transform(Transactions_new)"
   ]
  },
  {
   "cell_type": "code",
   "execution_count": 280,
   "metadata": {
    "executionInfo": {
     "elapsed": 9,
     "status": "ok",
     "timestamp": 1664807943409,
     "user": {
      "displayName": "Hoàng Tiến Dương",
      "userId": "10873276387831537806"
     },
     "user_tz": -420
    },
    "id": "JXdKAuqFynx-"
   },
   "outputs": [],
   "source": [
    "df = pd.DataFrame(data=te_ary, columns=te.columns_)"
   ]
  },
  {
   "cell_type": "code",
   "execution_count": 281,
   "metadata": {
    "colab": {
     "base_uri": "https://localhost:8080/",
     "height": 770
    },
    "executionInfo": {
     "elapsed": 9,
     "status": "ok",
     "timestamp": 1664807943409,
     "user": {
      "displayName": "Hoàng Tiến Dương",
      "userId": "10873276387831537806"
     },
     "user_tz": -420
    },
    "id": "YfNMxSsiy6TD",
    "outputId": "2f995606-71b8-4128-e994-3f170eb09da8"
   },
   "outputs": [
    {
     "data": {
      "text/html": [
       "\n",
       "  <div id=\"df-deb4a82a-fe25-4957-a2f0-67d7c8c0ecee\">\n",
       "    <div class=\"colab-df-container\">\n",
       "      <div>\n",
       "<style scoped>\n",
       "    .dataframe tbody tr th:only-of-type {\n",
       "        vertical-align: middle;\n",
       "    }\n",
       "\n",
       "    .dataframe tbody tr th {\n",
       "        vertical-align: top;\n",
       "    }\n",
       "\n",
       "    .dataframe thead th {\n",
       "        text-align: right;\n",
       "    }\n",
       "</style>\n",
       "<table border=\"1\" class=\"dataframe\">\n",
       "  <thead>\n",
       "    <tr style=\"text-align: right;\">\n",
       "      <th></th>\n",
       "      <th>00GVC</th>\n",
       "      <th>00OK1</th>\n",
       "      <th>0121I</th>\n",
       "      <th>01IEO</th>\n",
       "      <th>01IQT</th>\n",
       "      <th>01L05</th>\n",
       "      <th>01V7M</th>\n",
       "      <th>03C6L</th>\n",
       "      <th>03CPI</th>\n",
       "      <th>03K3G</th>\n",
       "      <th>...</th>\n",
       "      <th>ZUV4D</th>\n",
       "      <th>ZVGX9</th>\n",
       "      <th>ZVQ7Q</th>\n",
       "      <th>ZVTO4</th>\n",
       "      <th>ZWFSY</th>\n",
       "      <th>ZWWB5</th>\n",
       "      <th>ZY9N9</th>\n",
       "      <th>ZYF2U</th>\n",
       "      <th>ZZDW7</th>\n",
       "      <th>ZZM1A</th>\n",
       "    </tr>\n",
       "  </thead>\n",
       "  <tbody>\n",
       "    <tr>\n",
       "      <th>0</th>\n",
       "      <td>False</td>\n",
       "      <td>False</td>\n",
       "      <td>False</td>\n",
       "      <td>False</td>\n",
       "      <td>False</td>\n",
       "      <td>False</td>\n",
       "      <td>False</td>\n",
       "      <td>False</td>\n",
       "      <td>False</td>\n",
       "      <td>False</td>\n",
       "      <td>...</td>\n",
       "      <td>False</td>\n",
       "      <td>False</td>\n",
       "      <td>False</td>\n",
       "      <td>False</td>\n",
       "      <td>False</td>\n",
       "      <td>False</td>\n",
       "      <td>False</td>\n",
       "      <td>False</td>\n",
       "      <td>False</td>\n",
       "      <td>False</td>\n",
       "    </tr>\n",
       "    <tr>\n",
       "      <th>1</th>\n",
       "      <td>False</td>\n",
       "      <td>False</td>\n",
       "      <td>False</td>\n",
       "      <td>False</td>\n",
       "      <td>False</td>\n",
       "      <td>False</td>\n",
       "      <td>False</td>\n",
       "      <td>False</td>\n",
       "      <td>False</td>\n",
       "      <td>False</td>\n",
       "      <td>...</td>\n",
       "      <td>False</td>\n",
       "      <td>False</td>\n",
       "      <td>False</td>\n",
       "      <td>False</td>\n",
       "      <td>False</td>\n",
       "      <td>False</td>\n",
       "      <td>False</td>\n",
       "      <td>False</td>\n",
       "      <td>False</td>\n",
       "      <td>False</td>\n",
       "    </tr>\n",
       "    <tr>\n",
       "      <th>2</th>\n",
       "      <td>False</td>\n",
       "      <td>False</td>\n",
       "      <td>False</td>\n",
       "      <td>False</td>\n",
       "      <td>False</td>\n",
       "      <td>False</td>\n",
       "      <td>False</td>\n",
       "      <td>False</td>\n",
       "      <td>False</td>\n",
       "      <td>False</td>\n",
       "      <td>...</td>\n",
       "      <td>False</td>\n",
       "      <td>False</td>\n",
       "      <td>False</td>\n",
       "      <td>False</td>\n",
       "      <td>False</td>\n",
       "      <td>False</td>\n",
       "      <td>False</td>\n",
       "      <td>False</td>\n",
       "      <td>False</td>\n",
       "      <td>False</td>\n",
       "    </tr>\n",
       "    <tr>\n",
       "      <th>3</th>\n",
       "      <td>False</td>\n",
       "      <td>False</td>\n",
       "      <td>False</td>\n",
       "      <td>False</td>\n",
       "      <td>False</td>\n",
       "      <td>False</td>\n",
       "      <td>False</td>\n",
       "      <td>False</td>\n",
       "      <td>False</td>\n",
       "      <td>False</td>\n",
       "      <td>...</td>\n",
       "      <td>False</td>\n",
       "      <td>False</td>\n",
       "      <td>False</td>\n",
       "      <td>False</td>\n",
       "      <td>False</td>\n",
       "      <td>False</td>\n",
       "      <td>False</td>\n",
       "      <td>False</td>\n",
       "      <td>False</td>\n",
       "      <td>False</td>\n",
       "    </tr>\n",
       "    <tr>\n",
       "      <th>4</th>\n",
       "      <td>False</td>\n",
       "      <td>False</td>\n",
       "      <td>False</td>\n",
       "      <td>False</td>\n",
       "      <td>False</td>\n",
       "      <td>False</td>\n",
       "      <td>False</td>\n",
       "      <td>False</td>\n",
       "      <td>False</td>\n",
       "      <td>False</td>\n",
       "      <td>...</td>\n",
       "      <td>False</td>\n",
       "      <td>False</td>\n",
       "      <td>False</td>\n",
       "      <td>False</td>\n",
       "      <td>False</td>\n",
       "      <td>False</td>\n",
       "      <td>False</td>\n",
       "      <td>False</td>\n",
       "      <td>False</td>\n",
       "      <td>False</td>\n",
       "    </tr>\n",
       "    <tr>\n",
       "      <th>5</th>\n",
       "      <td>False</td>\n",
       "      <td>False</td>\n",
       "      <td>False</td>\n",
       "      <td>False</td>\n",
       "      <td>False</td>\n",
       "      <td>False</td>\n",
       "      <td>False</td>\n",
       "      <td>False</td>\n",
       "      <td>False</td>\n",
       "      <td>False</td>\n",
       "      <td>...</td>\n",
       "      <td>False</td>\n",
       "      <td>False</td>\n",
       "      <td>False</td>\n",
       "      <td>False</td>\n",
       "      <td>False</td>\n",
       "      <td>False</td>\n",
       "      <td>False</td>\n",
       "      <td>False</td>\n",
       "      <td>False</td>\n",
       "      <td>False</td>\n",
       "    </tr>\n",
       "    <tr>\n",
       "      <th>6</th>\n",
       "      <td>False</td>\n",
       "      <td>False</td>\n",
       "      <td>False</td>\n",
       "      <td>False</td>\n",
       "      <td>False</td>\n",
       "      <td>False</td>\n",
       "      <td>False</td>\n",
       "      <td>False</td>\n",
       "      <td>False</td>\n",
       "      <td>False</td>\n",
       "      <td>...</td>\n",
       "      <td>False</td>\n",
       "      <td>False</td>\n",
       "      <td>False</td>\n",
       "      <td>False</td>\n",
       "      <td>False</td>\n",
       "      <td>False</td>\n",
       "      <td>False</td>\n",
       "      <td>False</td>\n",
       "      <td>False</td>\n",
       "      <td>False</td>\n",
       "    </tr>\n",
       "    <tr>\n",
       "      <th>7</th>\n",
       "      <td>False</td>\n",
       "      <td>False</td>\n",
       "      <td>False</td>\n",
       "      <td>False</td>\n",
       "      <td>False</td>\n",
       "      <td>False</td>\n",
       "      <td>False</td>\n",
       "      <td>False</td>\n",
       "      <td>False</td>\n",
       "      <td>False</td>\n",
       "      <td>...</td>\n",
       "      <td>False</td>\n",
       "      <td>False</td>\n",
       "      <td>False</td>\n",
       "      <td>False</td>\n",
       "      <td>False</td>\n",
       "      <td>False</td>\n",
       "      <td>False</td>\n",
       "      <td>False</td>\n",
       "      <td>False</td>\n",
       "      <td>False</td>\n",
       "    </tr>\n",
       "    <tr>\n",
       "      <th>8</th>\n",
       "      <td>False</td>\n",
       "      <td>False</td>\n",
       "      <td>False</td>\n",
       "      <td>False</td>\n",
       "      <td>False</td>\n",
       "      <td>False</td>\n",
       "      <td>False</td>\n",
       "      <td>False</td>\n",
       "      <td>False</td>\n",
       "      <td>False</td>\n",
       "      <td>...</td>\n",
       "      <td>False</td>\n",
       "      <td>False</td>\n",
       "      <td>False</td>\n",
       "      <td>False</td>\n",
       "      <td>False</td>\n",
       "      <td>False</td>\n",
       "      <td>False</td>\n",
       "      <td>False</td>\n",
       "      <td>False</td>\n",
       "      <td>False</td>\n",
       "    </tr>\n",
       "    <tr>\n",
       "      <th>9</th>\n",
       "      <td>False</td>\n",
       "      <td>False</td>\n",
       "      <td>False</td>\n",
       "      <td>False</td>\n",
       "      <td>False</td>\n",
       "      <td>False</td>\n",
       "      <td>False</td>\n",
       "      <td>False</td>\n",
       "      <td>False</td>\n",
       "      <td>False</td>\n",
       "      <td>...</td>\n",
       "      <td>False</td>\n",
       "      <td>False</td>\n",
       "      <td>False</td>\n",
       "      <td>False</td>\n",
       "      <td>False</td>\n",
       "      <td>False</td>\n",
       "      <td>False</td>\n",
       "      <td>False</td>\n",
       "      <td>False</td>\n",
       "      <td>False</td>\n",
       "    </tr>\n",
       "    <tr>\n",
       "      <th>10</th>\n",
       "      <td>False</td>\n",
       "      <td>False</td>\n",
       "      <td>False</td>\n",
       "      <td>False</td>\n",
       "      <td>False</td>\n",
       "      <td>False</td>\n",
       "      <td>False</td>\n",
       "      <td>False</td>\n",
       "      <td>False</td>\n",
       "      <td>False</td>\n",
       "      <td>...</td>\n",
       "      <td>False</td>\n",
       "      <td>False</td>\n",
       "      <td>False</td>\n",
       "      <td>False</td>\n",
       "      <td>False</td>\n",
       "      <td>False</td>\n",
       "      <td>False</td>\n",
       "      <td>False</td>\n",
       "      <td>False</td>\n",
       "      <td>False</td>\n",
       "    </tr>\n",
       "    <tr>\n",
       "      <th>11</th>\n",
       "      <td>False</td>\n",
       "      <td>False</td>\n",
       "      <td>False</td>\n",
       "      <td>False</td>\n",
       "      <td>False</td>\n",
       "      <td>False</td>\n",
       "      <td>False</td>\n",
       "      <td>False</td>\n",
       "      <td>False</td>\n",
       "      <td>False</td>\n",
       "      <td>...</td>\n",
       "      <td>False</td>\n",
       "      <td>False</td>\n",
       "      <td>False</td>\n",
       "      <td>False</td>\n",
       "      <td>False</td>\n",
       "      <td>False</td>\n",
       "      <td>False</td>\n",
       "      <td>False</td>\n",
       "      <td>False</td>\n",
       "      <td>False</td>\n",
       "    </tr>\n",
       "    <tr>\n",
       "      <th>12</th>\n",
       "      <td>False</td>\n",
       "      <td>False</td>\n",
       "      <td>False</td>\n",
       "      <td>False</td>\n",
       "      <td>False</td>\n",
       "      <td>False</td>\n",
       "      <td>False</td>\n",
       "      <td>False</td>\n",
       "      <td>False</td>\n",
       "      <td>False</td>\n",
       "      <td>...</td>\n",
       "      <td>False</td>\n",
       "      <td>False</td>\n",
       "      <td>False</td>\n",
       "      <td>False</td>\n",
       "      <td>False</td>\n",
       "      <td>False</td>\n",
       "      <td>False</td>\n",
       "      <td>False</td>\n",
       "      <td>False</td>\n",
       "      <td>False</td>\n",
       "    </tr>\n",
       "    <tr>\n",
       "      <th>13</th>\n",
       "      <td>False</td>\n",
       "      <td>False</td>\n",
       "      <td>False</td>\n",
       "      <td>False</td>\n",
       "      <td>False</td>\n",
       "      <td>False</td>\n",
       "      <td>False</td>\n",
       "      <td>False</td>\n",
       "      <td>False</td>\n",
       "      <td>False</td>\n",
       "      <td>...</td>\n",
       "      <td>False</td>\n",
       "      <td>False</td>\n",
       "      <td>False</td>\n",
       "      <td>False</td>\n",
       "      <td>False</td>\n",
       "      <td>False</td>\n",
       "      <td>False</td>\n",
       "      <td>False</td>\n",
       "      <td>False</td>\n",
       "      <td>False</td>\n",
       "    </tr>\n",
       "    <tr>\n",
       "      <th>14</th>\n",
       "      <td>False</td>\n",
       "      <td>False</td>\n",
       "      <td>False</td>\n",
       "      <td>False</td>\n",
       "      <td>False</td>\n",
       "      <td>False</td>\n",
       "      <td>False</td>\n",
       "      <td>False</td>\n",
       "      <td>False</td>\n",
       "      <td>False</td>\n",
       "      <td>...</td>\n",
       "      <td>False</td>\n",
       "      <td>False</td>\n",
       "      <td>False</td>\n",
       "      <td>False</td>\n",
       "      <td>False</td>\n",
       "      <td>False</td>\n",
       "      <td>False</td>\n",
       "      <td>False</td>\n",
       "      <td>False</td>\n",
       "      <td>False</td>\n",
       "    </tr>\n",
       "    <tr>\n",
       "      <th>15</th>\n",
       "      <td>False</td>\n",
       "      <td>False</td>\n",
       "      <td>False</td>\n",
       "      <td>False</td>\n",
       "      <td>False</td>\n",
       "      <td>False</td>\n",
       "      <td>False</td>\n",
       "      <td>False</td>\n",
       "      <td>False</td>\n",
       "      <td>False</td>\n",
       "      <td>...</td>\n",
       "      <td>False</td>\n",
       "      <td>False</td>\n",
       "      <td>False</td>\n",
       "      <td>False</td>\n",
       "      <td>False</td>\n",
       "      <td>False</td>\n",
       "      <td>False</td>\n",
       "      <td>False</td>\n",
       "      <td>False</td>\n",
       "      <td>False</td>\n",
       "    </tr>\n",
       "    <tr>\n",
       "      <th>16</th>\n",
       "      <td>False</td>\n",
       "      <td>False</td>\n",
       "      <td>False</td>\n",
       "      <td>False</td>\n",
       "      <td>False</td>\n",
       "      <td>False</td>\n",
       "      <td>False</td>\n",
       "      <td>False</td>\n",
       "      <td>False</td>\n",
       "      <td>False</td>\n",
       "      <td>...</td>\n",
       "      <td>False</td>\n",
       "      <td>False</td>\n",
       "      <td>False</td>\n",
       "      <td>False</td>\n",
       "      <td>False</td>\n",
       "      <td>False</td>\n",
       "      <td>False</td>\n",
       "      <td>False</td>\n",
       "      <td>False</td>\n",
       "      <td>False</td>\n",
       "    </tr>\n",
       "    <tr>\n",
       "      <th>17</th>\n",
       "      <td>False</td>\n",
       "      <td>False</td>\n",
       "      <td>False</td>\n",
       "      <td>False</td>\n",
       "      <td>False</td>\n",
       "      <td>False</td>\n",
       "      <td>False</td>\n",
       "      <td>False</td>\n",
       "      <td>False</td>\n",
       "      <td>False</td>\n",
       "      <td>...</td>\n",
       "      <td>False</td>\n",
       "      <td>False</td>\n",
       "      <td>False</td>\n",
       "      <td>False</td>\n",
       "      <td>False</td>\n",
       "      <td>False</td>\n",
       "      <td>False</td>\n",
       "      <td>False</td>\n",
       "      <td>False</td>\n",
       "      <td>False</td>\n",
       "    </tr>\n",
       "    <tr>\n",
       "      <th>18</th>\n",
       "      <td>False</td>\n",
       "      <td>False</td>\n",
       "      <td>False</td>\n",
       "      <td>False</td>\n",
       "      <td>False</td>\n",
       "      <td>False</td>\n",
       "      <td>False</td>\n",
       "      <td>False</td>\n",
       "      <td>False</td>\n",
       "      <td>False</td>\n",
       "      <td>...</td>\n",
       "      <td>False</td>\n",
       "      <td>False</td>\n",
       "      <td>False</td>\n",
       "      <td>False</td>\n",
       "      <td>False</td>\n",
       "      <td>False</td>\n",
       "      <td>False</td>\n",
       "      <td>False</td>\n",
       "      <td>False</td>\n",
       "      <td>False</td>\n",
       "    </tr>\n",
       "    <tr>\n",
       "      <th>19</th>\n",
       "      <td>False</td>\n",
       "      <td>False</td>\n",
       "      <td>False</td>\n",
       "      <td>False</td>\n",
       "      <td>False</td>\n",
       "      <td>False</td>\n",
       "      <td>False</td>\n",
       "      <td>False</td>\n",
       "      <td>False</td>\n",
       "      <td>False</td>\n",
       "      <td>...</td>\n",
       "      <td>False</td>\n",
       "      <td>False</td>\n",
       "      <td>False</td>\n",
       "      <td>False</td>\n",
       "      <td>False</td>\n",
       "      <td>False</td>\n",
       "      <td>False</td>\n",
       "      <td>False</td>\n",
       "      <td>False</td>\n",
       "      <td>False</td>\n",
       "    </tr>\n",
       "  </tbody>\n",
       "</table>\n",
       "<p>20 rows × 3610 columns</p>\n",
       "</div>\n",
       "      <button class=\"colab-df-convert\" onclick=\"convertToInteractive('df-deb4a82a-fe25-4957-a2f0-67d7c8c0ecee')\"\n",
       "              title=\"Convert this dataframe to an interactive table.\"\n",
       "              style=\"display:none;\">\n",
       "        \n",
       "  <svg xmlns=\"http://www.w3.org/2000/svg\" height=\"24px\"viewBox=\"0 0 24 24\"\n",
       "       width=\"24px\">\n",
       "    <path d=\"M0 0h24v24H0V0z\" fill=\"none\"/>\n",
       "    <path d=\"M18.56 5.44l.94 2.06.94-2.06 2.06-.94-2.06-.94-.94-2.06-.94 2.06-2.06.94zm-11 1L8.5 8.5l.94-2.06 2.06-.94-2.06-.94L8.5 2.5l-.94 2.06-2.06.94zm10 10l.94 2.06.94-2.06 2.06-.94-2.06-.94-.94-2.06-.94 2.06-2.06.94z\"/><path d=\"M17.41 7.96l-1.37-1.37c-.4-.4-.92-.59-1.43-.59-.52 0-1.04.2-1.43.59L10.3 9.45l-7.72 7.72c-.78.78-.78 2.05 0 2.83L4 21.41c.39.39.9.59 1.41.59.51 0 1.02-.2 1.41-.59l7.78-7.78 2.81-2.81c.8-.78.8-2.07 0-2.86zM5.41 20L4 18.59l7.72-7.72 1.47 1.35L5.41 20z\"/>\n",
       "  </svg>\n",
       "      </button>\n",
       "      \n",
       "  <style>\n",
       "    .colab-df-container {\n",
       "      display:flex;\n",
       "      flex-wrap:wrap;\n",
       "      gap: 12px;\n",
       "    }\n",
       "\n",
       "    .colab-df-convert {\n",
       "      background-color: #E8F0FE;\n",
       "      border: none;\n",
       "      border-radius: 50%;\n",
       "      cursor: pointer;\n",
       "      display: none;\n",
       "      fill: #1967D2;\n",
       "      height: 32px;\n",
       "      padding: 0 0 0 0;\n",
       "      width: 32px;\n",
       "    }\n",
       "\n",
       "    .colab-df-convert:hover {\n",
       "      background-color: #E2EBFA;\n",
       "      box-shadow: 0px 1px 2px rgba(60, 64, 67, 0.3), 0px 1px 3px 1px rgba(60, 64, 67, 0.15);\n",
       "      fill: #174EA6;\n",
       "    }\n",
       "\n",
       "    [theme=dark] .colab-df-convert {\n",
       "      background-color: #3B4455;\n",
       "      fill: #D2E3FC;\n",
       "    }\n",
       "\n",
       "    [theme=dark] .colab-df-convert:hover {\n",
       "      background-color: #434B5C;\n",
       "      box-shadow: 0px 1px 3px 1px rgba(0, 0, 0, 0.15);\n",
       "      filter: drop-shadow(0px 1px 2px rgba(0, 0, 0, 0.3));\n",
       "      fill: #FFFFFF;\n",
       "    }\n",
       "  </style>\n",
       "\n",
       "      <script>\n",
       "        const buttonEl =\n",
       "          document.querySelector('#df-deb4a82a-fe25-4957-a2f0-67d7c8c0ecee button.colab-df-convert');\n",
       "        buttonEl.style.display =\n",
       "          google.colab.kernel.accessAllowed ? 'block' : 'none';\n",
       "\n",
       "        async function convertToInteractive(key) {\n",
       "          const element = document.querySelector('#df-deb4a82a-fe25-4957-a2f0-67d7c8c0ecee');\n",
       "          const dataTable =\n",
       "            await google.colab.kernel.invokeFunction('convertToInteractive',\n",
       "                                                     [key], {});\n",
       "          if (!dataTable) return;\n",
       "\n",
       "          const docLinkHtml = 'Like what you see? Visit the ' +\n",
       "            '<a target=\"_blank\" href=https://colab.research.google.com/notebooks/data_table.ipynb>data table notebook</a>'\n",
       "            + ' to learn more about interactive tables.';\n",
       "          element.innerHTML = '';\n",
       "          dataTable['output_type'] = 'display_data';\n",
       "          await google.colab.output.renderOutput(dataTable, element);\n",
       "          const docLink = document.createElement('div');\n",
       "          docLink.innerHTML = docLinkHtml;\n",
       "          element.appendChild(docLink);\n",
       "        }\n",
       "      </script>\n",
       "    </div>\n",
       "  </div>\n",
       "  "
      ],
      "text/plain": [
       "    00GVC  00OK1  0121I  01IEO  01IQT  01L05  01V7M  03C6L  03CPI  03K3G  ...  \\\n",
       "0   False  False  False  False  False  False  False  False  False  False  ...   \n",
       "1   False  False  False  False  False  False  False  False  False  False  ...   \n",
       "2   False  False  False  False  False  False  False  False  False  False  ...   \n",
       "3   False  False  False  False  False  False  False  False  False  False  ...   \n",
       "4   False  False  False  False  False  False  False  False  False  False  ...   \n",
       "5   False  False  False  False  False  False  False  False  False  False  ...   \n",
       "6   False  False  False  False  False  False  False  False  False  False  ...   \n",
       "7   False  False  False  False  False  False  False  False  False  False  ...   \n",
       "8   False  False  False  False  False  False  False  False  False  False  ...   \n",
       "9   False  False  False  False  False  False  False  False  False  False  ...   \n",
       "10  False  False  False  False  False  False  False  False  False  False  ...   \n",
       "11  False  False  False  False  False  False  False  False  False  False  ...   \n",
       "12  False  False  False  False  False  False  False  False  False  False  ...   \n",
       "13  False  False  False  False  False  False  False  False  False  False  ...   \n",
       "14  False  False  False  False  False  False  False  False  False  False  ...   \n",
       "15  False  False  False  False  False  False  False  False  False  False  ...   \n",
       "16  False  False  False  False  False  False  False  False  False  False  ...   \n",
       "17  False  False  False  False  False  False  False  False  False  False  ...   \n",
       "18  False  False  False  False  False  False  False  False  False  False  ...   \n",
       "19  False  False  False  False  False  False  False  False  False  False  ...   \n",
       "\n",
       "    ZUV4D  ZVGX9  ZVQ7Q  ZVTO4  ZWFSY  ZWWB5  ZY9N9  ZYF2U  ZZDW7  ZZM1A  \n",
       "0   False  False  False  False  False  False  False  False  False  False  \n",
       "1   False  False  False  False  False  False  False  False  False  False  \n",
       "2   False  False  False  False  False  False  False  False  False  False  \n",
       "3   False  False  False  False  False  False  False  False  False  False  \n",
       "4   False  False  False  False  False  False  False  False  False  False  \n",
       "5   False  False  False  False  False  False  False  False  False  False  \n",
       "6   False  False  False  False  False  False  False  False  False  False  \n",
       "7   False  False  False  False  False  False  False  False  False  False  \n",
       "8   False  False  False  False  False  False  False  False  False  False  \n",
       "9   False  False  False  False  False  False  False  False  False  False  \n",
       "10  False  False  False  False  False  False  False  False  False  False  \n",
       "11  False  False  False  False  False  False  False  False  False  False  \n",
       "12  False  False  False  False  False  False  False  False  False  False  \n",
       "13  False  False  False  False  False  False  False  False  False  False  \n",
       "14  False  False  False  False  False  False  False  False  False  False  \n",
       "15  False  False  False  False  False  False  False  False  False  False  \n",
       "16  False  False  False  False  False  False  False  False  False  False  \n",
       "17  False  False  False  False  False  False  False  False  False  False  \n",
       "18  False  False  False  False  False  False  False  False  False  False  \n",
       "19  False  False  False  False  False  False  False  False  False  False  \n",
       "\n",
       "[20 rows x 3610 columns]"
      ]
     },
     "execution_count": 281,
     "metadata": {},
     "output_type": "execute_result"
    }
   ],
   "source": [
    "df.head(20)"
   ]
  },
  {
   "cell_type": "code",
   "execution_count": 305,
   "metadata": {
    "executionInfo": {
     "elapsed": 28582,
     "status": "ok",
     "timestamp": 1664808087113,
     "user": {
      "displayName": "Hoàng Tiến Dương",
      "userId": "10873276387831537806"
     },
     "user_tz": -420
    },
    "id": "r3971LFAy7tD"
   },
   "outputs": [],
   "source": [
    "frequent_itemsets = apriori(df, min_support=0.002 ,use_colnames=True).sort_values(by='support', ascending=False)"
   ]
  },
  {
   "cell_type": "code",
   "execution_count": 306,
   "metadata": {
    "colab": {
     "base_uri": "https://localhost:8080/",
     "height": 424
    },
    "executionInfo": {
     "elapsed": 30,
     "status": "ok",
     "timestamp": 1664808087113,
     "user": {
      "displayName": "Hoàng Tiến Dương",
      "userId": "10873276387831537806"
     },
     "user_tz": -420
    },
    "id": "1Xp6X4a10AOf",
    "outputId": "a03a8747-43c5-43b9-f527-2b0e3a2930a8"
   },
   "outputs": [
    {
     "data": {
      "text/html": [
       "\n",
       "  <div id=\"df-112ce095-0b1f-4715-bd86-6143fb5f5b91\">\n",
       "    <div class=\"colab-df-container\">\n",
       "      <div>\n",
       "<style scoped>\n",
       "    .dataframe tbody tr th:only-of-type {\n",
       "        vertical-align: middle;\n",
       "    }\n",
       "\n",
       "    .dataframe tbody tr th {\n",
       "        vertical-align: top;\n",
       "    }\n",
       "\n",
       "    .dataframe thead th {\n",
       "        text-align: right;\n",
       "    }\n",
       "</style>\n",
       "<table border=\"1\" class=\"dataframe\">\n",
       "  <thead>\n",
       "    <tr style=\"text-align: right;\">\n",
       "      <th></th>\n",
       "      <th>support</th>\n",
       "      <th>itemsets</th>\n",
       "    </tr>\n",
       "  </thead>\n",
       "  <tbody>\n",
       "    <tr>\n",
       "      <th>449</th>\n",
       "      <td>0.057920</td>\n",
       "      <td>(UNJKW)</td>\n",
       "    </tr>\n",
       "    <tr>\n",
       "      <th>192</th>\n",
       "      <td>0.041520</td>\n",
       "      <td>(C6TXL)</td>\n",
       "    </tr>\n",
       "    <tr>\n",
       "      <th>434</th>\n",
       "      <td>0.033562</td>\n",
       "      <td>(TL4WZ)</td>\n",
       "    </tr>\n",
       "    <tr>\n",
       "      <th>396</th>\n",
       "      <td>0.033423</td>\n",
       "      <td>(QGK3S)</td>\n",
       "    </tr>\n",
       "    <tr>\n",
       "      <th>219</th>\n",
       "      <td>0.032316</td>\n",
       "      <td>(DWJC4)</td>\n",
       "    </tr>\n",
       "    <tr>\n",
       "      <th>...</th>\n",
       "      <td>...</td>\n",
       "      <td>...</td>\n",
       "    </tr>\n",
       "    <tr>\n",
       "      <th>486</th>\n",
       "      <td>0.002007</td>\n",
       "      <td>(X2BTR)</td>\n",
       "    </tr>\n",
       "    <tr>\n",
       "      <th>191</th>\n",
       "      <td>0.002007</td>\n",
       "      <td>(C4Y40)</td>\n",
       "    </tr>\n",
       "    <tr>\n",
       "      <th>190</th>\n",
       "      <td>0.002007</td>\n",
       "      <td>(C07LW)</td>\n",
       "    </tr>\n",
       "    <tr>\n",
       "      <th>428</th>\n",
       "      <td>0.002007</td>\n",
       "      <td>(TD3DD)</td>\n",
       "    </tr>\n",
       "    <tr>\n",
       "      <th>424</th>\n",
       "      <td>0.002007</td>\n",
       "      <td>(T5V5W)</td>\n",
       "    </tr>\n",
       "  </tbody>\n",
       "</table>\n",
       "<p>556 rows × 2 columns</p>\n",
       "</div>\n",
       "      <button class=\"colab-df-convert\" onclick=\"convertToInteractive('df-112ce095-0b1f-4715-bd86-6143fb5f5b91')\"\n",
       "              title=\"Convert this dataframe to an interactive table.\"\n",
       "              style=\"display:none;\">\n",
       "        \n",
       "  <svg xmlns=\"http://www.w3.org/2000/svg\" height=\"24px\"viewBox=\"0 0 24 24\"\n",
       "       width=\"24px\">\n",
       "    <path d=\"M0 0h24v24H0V0z\" fill=\"none\"/>\n",
       "    <path d=\"M18.56 5.44l.94 2.06.94-2.06 2.06-.94-2.06-.94-.94-2.06-.94 2.06-2.06.94zm-11 1L8.5 8.5l.94-2.06 2.06-.94-2.06-.94L8.5 2.5l-.94 2.06-2.06.94zm10 10l.94 2.06.94-2.06 2.06-.94-2.06-.94-.94-2.06-.94 2.06-2.06.94z\"/><path d=\"M17.41 7.96l-1.37-1.37c-.4-.4-.92-.59-1.43-.59-.52 0-1.04.2-1.43.59L10.3 9.45l-7.72 7.72c-.78.78-.78 2.05 0 2.83L4 21.41c.39.39.9.59 1.41.59.51 0 1.02-.2 1.41-.59l7.78-7.78 2.81-2.81c.8-.78.8-2.07 0-2.86zM5.41 20L4 18.59l7.72-7.72 1.47 1.35L5.41 20z\"/>\n",
       "  </svg>\n",
       "      </button>\n",
       "      \n",
       "  <style>\n",
       "    .colab-df-container {\n",
       "      display:flex;\n",
       "      flex-wrap:wrap;\n",
       "      gap: 12px;\n",
       "    }\n",
       "\n",
       "    .colab-df-convert {\n",
       "      background-color: #E8F0FE;\n",
       "      border: none;\n",
       "      border-radius: 50%;\n",
       "      cursor: pointer;\n",
       "      display: none;\n",
       "      fill: #1967D2;\n",
       "      height: 32px;\n",
       "      padding: 0 0 0 0;\n",
       "      width: 32px;\n",
       "    }\n",
       "\n",
       "    .colab-df-convert:hover {\n",
       "      background-color: #E2EBFA;\n",
       "      box-shadow: 0px 1px 2px rgba(60, 64, 67, 0.3), 0px 1px 3px 1px rgba(60, 64, 67, 0.15);\n",
       "      fill: #174EA6;\n",
       "    }\n",
       "\n",
       "    [theme=dark] .colab-df-convert {\n",
       "      background-color: #3B4455;\n",
       "      fill: #D2E3FC;\n",
       "    }\n",
       "\n",
       "    [theme=dark] .colab-df-convert:hover {\n",
       "      background-color: #434B5C;\n",
       "      box-shadow: 0px 1px 3px 1px rgba(0, 0, 0, 0.15);\n",
       "      filter: drop-shadow(0px 1px 2px rgba(0, 0, 0, 0.3));\n",
       "      fill: #FFFFFF;\n",
       "    }\n",
       "  </style>\n",
       "\n",
       "      <script>\n",
       "        const buttonEl =\n",
       "          document.querySelector('#df-112ce095-0b1f-4715-bd86-6143fb5f5b91 button.colab-df-convert');\n",
       "        buttonEl.style.display =\n",
       "          google.colab.kernel.accessAllowed ? 'block' : 'none';\n",
       "\n",
       "        async function convertToInteractive(key) {\n",
       "          const element = document.querySelector('#df-112ce095-0b1f-4715-bd86-6143fb5f5b91');\n",
       "          const dataTable =\n",
       "            await google.colab.kernel.invokeFunction('convertToInteractive',\n",
       "                                                     [key], {});\n",
       "          if (!dataTable) return;\n",
       "\n",
       "          const docLinkHtml = 'Like what you see? Visit the ' +\n",
       "            '<a target=\"_blank\" href=https://colab.research.google.com/notebooks/data_table.ipynb>data table notebook</a>'\n",
       "            + ' to learn more about interactive tables.';\n",
       "          element.innerHTML = '';\n",
       "          dataTable['output_type'] = 'display_data';\n",
       "          await google.colab.output.renderOutput(dataTable, element);\n",
       "          const docLink = document.createElement('div');\n",
       "          docLink.innerHTML = docLinkHtml;\n",
       "          element.appendChild(docLink);\n",
       "        }\n",
       "      </script>\n",
       "    </div>\n",
       "  </div>\n",
       "  "
      ],
      "text/plain": [
       "      support itemsets\n",
       "449  0.057920  (UNJKW)\n",
       "192  0.041520  (C6TXL)\n",
       "434  0.033562  (TL4WZ)\n",
       "396  0.033423  (QGK3S)\n",
       "219  0.032316  (DWJC4)\n",
       "..        ...      ...\n",
       "486  0.002007  (X2BTR)\n",
       "191  0.002007  (C4Y40)\n",
       "190  0.002007  (C07LW)\n",
       "428  0.002007  (TD3DD)\n",
       "424  0.002007  (T5V5W)\n",
       "\n",
       "[556 rows x 2 columns]"
      ]
     },
     "execution_count": 306,
     "metadata": {},
     "output_type": "execute_result"
    }
   ],
   "source": [
    "frequent_itemsets"
   ]
  },
  {
   "cell_type": "code",
   "execution_count": 307,
   "metadata": {
    "executionInfo": {
     "elapsed": 27,
     "status": "ok",
     "timestamp": 1664808087113,
     "user": {
      "displayName": "Hoàng Tiến Dương",
      "userId": "10873276387831537806"
     },
     "user_tz": -420
    },
    "id": "avtLfIbAQ3CT"
   },
   "outputs": [],
   "source": [
    "from mlxtend.frequent_patterns import association_rules"
   ]
  },
  {
   "cell_type": "code",
   "execution_count": 308,
   "metadata": {
    "executionInfo": {
     "elapsed": 28,
     "status": "ok",
     "timestamp": 1664808087114,
     "user": {
      "displayName": "Hoàng Tiến Dương",
      "userId": "10873276387831537806"
     },
     "user_tz": -420
    },
    "id": "vhajAB9dRHOJ"
   },
   "outputs": [],
   "source": [
    "rule_1 = association_rules(df=frequent_itemsets, metric='confidence', min_threshold=0.002)"
   ]
  },
  {
   "cell_type": "code",
   "execution_count": 309,
   "metadata": {
    "colab": {
     "base_uri": "https://localhost:8080/",
     "height": 468
    },
    "executionInfo": {
     "elapsed": 28,
     "status": "ok",
     "timestamp": 1664808087114,
     "user": {
      "displayName": "Hoàng Tiến Dương",
      "userId": "10873276387831537806"
     },
     "user_tz": -420
    },
    "id": "b5N5ySdzRdXa",
    "outputId": "b843303d-066d-40ad-dc9f-1be402206315"
   },
   "outputs": [
    {
     "data": {
      "text/html": [
       "\n",
       "  <div id=\"df-4a54c8ac-20dc-4a87-95b4-0d338bb7cd6b\">\n",
       "    <div class=\"colab-df-container\">\n",
       "      <div>\n",
       "<style scoped>\n",
       "    .dataframe tbody tr th:only-of-type {\n",
       "        vertical-align: middle;\n",
       "    }\n",
       "\n",
       "    .dataframe tbody tr th {\n",
       "        vertical-align: top;\n",
       "    }\n",
       "\n",
       "    .dataframe thead th {\n",
       "        text-align: right;\n",
       "    }\n",
       "</style>\n",
       "<table border=\"1\" class=\"dataframe\">\n",
       "  <thead>\n",
       "    <tr style=\"text-align: right;\">\n",
       "      <th></th>\n",
       "      <th>antecedents</th>\n",
       "      <th>consequents</th>\n",
       "      <th>antecedent support</th>\n",
       "      <th>consequent support</th>\n",
       "      <th>support</th>\n",
       "      <th>confidence</th>\n",
       "      <th>lift</th>\n",
       "      <th>leverage</th>\n",
       "      <th>conviction</th>\n",
       "    </tr>\n",
       "  </thead>\n",
       "  <tbody>\n",
       "    <tr>\n",
       "      <th>0</th>\n",
       "      <td>(TL4WZ)</td>\n",
       "      <td>(C6TXL)</td>\n",
       "      <td>0.033562</td>\n",
       "      <td>0.041520</td>\n",
       "      <td>0.003944</td>\n",
       "      <td>0.117526</td>\n",
       "      <td>2.830608</td>\n",
       "      <td>0.002551</td>\n",
       "      <td>1.086128</td>\n",
       "    </tr>\n",
       "    <tr>\n",
       "      <th>1</th>\n",
       "      <td>(C6TXL)</td>\n",
       "      <td>(TL4WZ)</td>\n",
       "      <td>0.041520</td>\n",
       "      <td>0.033562</td>\n",
       "      <td>0.003944</td>\n",
       "      <td>0.095000</td>\n",
       "      <td>2.830608</td>\n",
       "      <td>0.002551</td>\n",
       "      <td>1.067888</td>\n",
       "    </tr>\n",
       "    <tr>\n",
       "      <th>2</th>\n",
       "      <td>(COWU2)</td>\n",
       "      <td>(UNJKW)</td>\n",
       "      <td>0.018684</td>\n",
       "      <td>0.057920</td>\n",
       "      <td>0.003806</td>\n",
       "      <td>0.203704</td>\n",
       "      <td>3.516992</td>\n",
       "      <td>0.002724</td>\n",
       "      <td>1.183077</td>\n",
       "    </tr>\n",
       "    <tr>\n",
       "      <th>3</th>\n",
       "      <td>(UNJKW)</td>\n",
       "      <td>(COWU2)</td>\n",
       "      <td>0.057920</td>\n",
       "      <td>0.018684</td>\n",
       "      <td>0.003806</td>\n",
       "      <td>0.065711</td>\n",
       "      <td>3.516992</td>\n",
       "      <td>0.002724</td>\n",
       "      <td>1.050335</td>\n",
       "    </tr>\n",
       "    <tr>\n",
       "      <th>4</th>\n",
       "      <td>(DWJC4)</td>\n",
       "      <td>(TL4WZ)</td>\n",
       "      <td>0.032316</td>\n",
       "      <td>0.033562</td>\n",
       "      <td>0.003737</td>\n",
       "      <td>0.115632</td>\n",
       "      <td>3.445348</td>\n",
       "      <td>0.002652</td>\n",
       "      <td>1.092801</td>\n",
       "    </tr>\n",
       "    <tr>\n",
       "      <th>...</th>\n",
       "      <td>...</td>\n",
       "      <td>...</td>\n",
       "      <td>...</td>\n",
       "      <td>...</td>\n",
       "      <td>...</td>\n",
       "      <td>...</td>\n",
       "      <td>...</td>\n",
       "      <td>...</td>\n",
       "      <td>...</td>\n",
       "    </tr>\n",
       "    <tr>\n",
       "      <th>63</th>\n",
       "      <td>(DWJC4)</td>\n",
       "      <td>(W14J3)</td>\n",
       "      <td>0.032316</td>\n",
       "      <td>0.017784</td>\n",
       "      <td>0.002076</td>\n",
       "      <td>0.064240</td>\n",
       "      <td>3.612178</td>\n",
       "      <td>0.001501</td>\n",
       "      <td>1.049645</td>\n",
       "    </tr>\n",
       "    <tr>\n",
       "      <th>64</th>\n",
       "      <td>(C6TXL)</td>\n",
       "      <td>(X05XH)</td>\n",
       "      <td>0.041520</td>\n",
       "      <td>0.018753</td>\n",
       "      <td>0.002007</td>\n",
       "      <td>0.048333</td>\n",
       "      <td>2.577362</td>\n",
       "      <td>0.001228</td>\n",
       "      <td>1.031083</td>\n",
       "    </tr>\n",
       "    <tr>\n",
       "      <th>65</th>\n",
       "      <td>(X05XH)</td>\n",
       "      <td>(C6TXL)</td>\n",
       "      <td>0.018753</td>\n",
       "      <td>0.041520</td>\n",
       "      <td>0.002007</td>\n",
       "      <td>0.107011</td>\n",
       "      <td>2.577362</td>\n",
       "      <td>0.001228</td>\n",
       "      <td>1.073340</td>\n",
       "    </tr>\n",
       "    <tr>\n",
       "      <th>66</th>\n",
       "      <td>(W14J3)</td>\n",
       "      <td>(1IX2L)</td>\n",
       "      <td>0.017784</td>\n",
       "      <td>0.010588</td>\n",
       "      <td>0.002007</td>\n",
       "      <td>0.112840</td>\n",
       "      <td>10.657893</td>\n",
       "      <td>0.001818</td>\n",
       "      <td>1.115259</td>\n",
       "    </tr>\n",
       "    <tr>\n",
       "      <th>67</th>\n",
       "      <td>(1IX2L)</td>\n",
       "      <td>(W14J3)</td>\n",
       "      <td>0.010588</td>\n",
       "      <td>0.017784</td>\n",
       "      <td>0.002007</td>\n",
       "      <td>0.189542</td>\n",
       "      <td>10.657893</td>\n",
       "      <td>0.001818</td>\n",
       "      <td>1.211928</td>\n",
       "    </tr>\n",
       "  </tbody>\n",
       "</table>\n",
       "<p>68 rows × 9 columns</p>\n",
       "</div>\n",
       "      <button class=\"colab-df-convert\" onclick=\"convertToInteractive('df-4a54c8ac-20dc-4a87-95b4-0d338bb7cd6b')\"\n",
       "              title=\"Convert this dataframe to an interactive table.\"\n",
       "              style=\"display:none;\">\n",
       "        \n",
       "  <svg xmlns=\"http://www.w3.org/2000/svg\" height=\"24px\"viewBox=\"0 0 24 24\"\n",
       "       width=\"24px\">\n",
       "    <path d=\"M0 0h24v24H0V0z\" fill=\"none\"/>\n",
       "    <path d=\"M18.56 5.44l.94 2.06.94-2.06 2.06-.94-2.06-.94-.94-2.06-.94 2.06-2.06.94zm-11 1L8.5 8.5l.94-2.06 2.06-.94-2.06-.94L8.5 2.5l-.94 2.06-2.06.94zm10 10l.94 2.06.94-2.06 2.06-.94-2.06-.94-.94-2.06-.94 2.06-2.06.94z\"/><path d=\"M17.41 7.96l-1.37-1.37c-.4-.4-.92-.59-1.43-.59-.52 0-1.04.2-1.43.59L10.3 9.45l-7.72 7.72c-.78.78-.78 2.05 0 2.83L4 21.41c.39.39.9.59 1.41.59.51 0 1.02-.2 1.41-.59l7.78-7.78 2.81-2.81c.8-.78.8-2.07 0-2.86zM5.41 20L4 18.59l7.72-7.72 1.47 1.35L5.41 20z\"/>\n",
       "  </svg>\n",
       "      </button>\n",
       "      \n",
       "  <style>\n",
       "    .colab-df-container {\n",
       "      display:flex;\n",
       "      flex-wrap:wrap;\n",
       "      gap: 12px;\n",
       "    }\n",
       "\n",
       "    .colab-df-convert {\n",
       "      background-color: #E8F0FE;\n",
       "      border: none;\n",
       "      border-radius: 50%;\n",
       "      cursor: pointer;\n",
       "      display: none;\n",
       "      fill: #1967D2;\n",
       "      height: 32px;\n",
       "      padding: 0 0 0 0;\n",
       "      width: 32px;\n",
       "    }\n",
       "\n",
       "    .colab-df-convert:hover {\n",
       "      background-color: #E2EBFA;\n",
       "      box-shadow: 0px 1px 2px rgba(60, 64, 67, 0.3), 0px 1px 3px 1px rgba(60, 64, 67, 0.15);\n",
       "      fill: #174EA6;\n",
       "    }\n",
       "\n",
       "    [theme=dark] .colab-df-convert {\n",
       "      background-color: #3B4455;\n",
       "      fill: #D2E3FC;\n",
       "    }\n",
       "\n",
       "    [theme=dark] .colab-df-convert:hover {\n",
       "      background-color: #434B5C;\n",
       "      box-shadow: 0px 1px 3px 1px rgba(0, 0, 0, 0.15);\n",
       "      filter: drop-shadow(0px 1px 2px rgba(0, 0, 0, 0.3));\n",
       "      fill: #FFFFFF;\n",
       "    }\n",
       "  </style>\n",
       "\n",
       "      <script>\n",
       "        const buttonEl =\n",
       "          document.querySelector('#df-4a54c8ac-20dc-4a87-95b4-0d338bb7cd6b button.colab-df-convert');\n",
       "        buttonEl.style.display =\n",
       "          google.colab.kernel.accessAllowed ? 'block' : 'none';\n",
       "\n",
       "        async function convertToInteractive(key) {\n",
       "          const element = document.querySelector('#df-4a54c8ac-20dc-4a87-95b4-0d338bb7cd6b');\n",
       "          const dataTable =\n",
       "            await google.colab.kernel.invokeFunction('convertToInteractive',\n",
       "                                                     [key], {});\n",
       "          if (!dataTable) return;\n",
       "\n",
       "          const docLinkHtml = 'Like what you see? Visit the ' +\n",
       "            '<a target=\"_blank\" href=https://colab.research.google.com/notebooks/data_table.ipynb>data table notebook</a>'\n",
       "            + ' to learn more about interactive tables.';\n",
       "          element.innerHTML = '';\n",
       "          dataTable['output_type'] = 'display_data';\n",
       "          await google.colab.output.renderOutput(dataTable, element);\n",
       "          const docLink = document.createElement('div');\n",
       "          docLink.innerHTML = docLinkHtml;\n",
       "          element.appendChild(docLink);\n",
       "        }\n",
       "      </script>\n",
       "    </div>\n",
       "  </div>\n",
       "  "
      ],
      "text/plain": [
       "   antecedents consequents  antecedent support  consequent support   support  \\\n",
       "0      (TL4WZ)     (C6TXL)            0.033562            0.041520  0.003944   \n",
       "1      (C6TXL)     (TL4WZ)            0.041520            0.033562  0.003944   \n",
       "2      (COWU2)     (UNJKW)            0.018684            0.057920  0.003806   \n",
       "3      (UNJKW)     (COWU2)            0.057920            0.018684  0.003806   \n",
       "4      (DWJC4)     (TL4WZ)            0.032316            0.033562  0.003737   \n",
       "..         ...         ...                 ...                 ...       ...   \n",
       "63     (DWJC4)     (W14J3)            0.032316            0.017784  0.002076   \n",
       "64     (C6TXL)     (X05XH)            0.041520            0.018753  0.002007   \n",
       "65     (X05XH)     (C6TXL)            0.018753            0.041520  0.002007   \n",
       "66     (W14J3)     (1IX2L)            0.017784            0.010588  0.002007   \n",
       "67     (1IX2L)     (W14J3)            0.010588            0.017784  0.002007   \n",
       "\n",
       "    confidence       lift  leverage  conviction  \n",
       "0     0.117526   2.830608  0.002551    1.086128  \n",
       "1     0.095000   2.830608  0.002551    1.067888  \n",
       "2     0.203704   3.516992  0.002724    1.183077  \n",
       "3     0.065711   3.516992  0.002724    1.050335  \n",
       "4     0.115632   3.445348  0.002652    1.092801  \n",
       "..         ...        ...       ...         ...  \n",
       "63    0.064240   3.612178  0.001501    1.049645  \n",
       "64    0.048333   2.577362  0.001228    1.031083  \n",
       "65    0.107011   2.577362  0.001228    1.073340  \n",
       "66    0.112840  10.657893  0.001818    1.115259  \n",
       "67    0.189542  10.657893  0.001818    1.211928  \n",
       "\n",
       "[68 rows x 9 columns]"
      ]
     },
     "execution_count": 309,
     "metadata": {},
     "output_type": "execute_result"
    }
   ],
   "source": [
    "rule_1"
   ]
  },
  {
   "cell_type": "code",
   "execution_count": 310,
   "metadata": {
    "executionInfo": {
     "elapsed": 25,
     "status": "ok",
     "timestamp": 1664808087114,
     "user": {
      "displayName": "Hoàng Tiến Dương",
      "userId": "10873276387831537806"
     },
     "user_tz": -420
    },
    "id": "d3F-DYKCRrKt"
   },
   "outputs": [],
   "source": [
    "rule_2 = association_rules(df=frequent_itemsets, metric='lift', min_threshold=1)"
   ]
  },
  {
   "cell_type": "code",
   "execution_count": 311,
   "metadata": {
    "colab": {
     "base_uri": "https://localhost:8080/",
     "height": 468
    },
    "executionInfo": {
     "elapsed": 25,
     "status": "ok",
     "timestamp": 1664808087114,
     "user": {
      "displayName": "Hoàng Tiến Dương",
      "userId": "10873276387831537806"
     },
     "user_tz": -420
    },
    "id": "lSirEpLZRwFj",
    "outputId": "ae2e5c51-560f-4ace-abc3-dd08ee7546e0"
   },
   "outputs": [
    {
     "data": {
      "text/html": [
       "\n",
       "  <div id=\"df-4767059b-a421-4fe5-bf65-7c20bbb343b8\">\n",
       "    <div class=\"colab-df-container\">\n",
       "      <div>\n",
       "<style scoped>\n",
       "    .dataframe tbody tr th:only-of-type {\n",
       "        vertical-align: middle;\n",
       "    }\n",
       "\n",
       "    .dataframe tbody tr th {\n",
       "        vertical-align: top;\n",
       "    }\n",
       "\n",
       "    .dataframe thead th {\n",
       "        text-align: right;\n",
       "    }\n",
       "</style>\n",
       "<table border=\"1\" class=\"dataframe\">\n",
       "  <thead>\n",
       "    <tr style=\"text-align: right;\">\n",
       "      <th></th>\n",
       "      <th>antecedents</th>\n",
       "      <th>consequents</th>\n",
       "      <th>antecedent support</th>\n",
       "      <th>consequent support</th>\n",
       "      <th>support</th>\n",
       "      <th>confidence</th>\n",
       "      <th>lift</th>\n",
       "      <th>leverage</th>\n",
       "      <th>conviction</th>\n",
       "    </tr>\n",
       "  </thead>\n",
       "  <tbody>\n",
       "    <tr>\n",
       "      <th>38</th>\n",
       "      <td>(5O2CO)</td>\n",
       "      <td>(3QNEE)</td>\n",
       "      <td>0.002976</td>\n",
       "      <td>0.002768</td>\n",
       "      <td>0.002353</td>\n",
       "      <td>0.790698</td>\n",
       "      <td>285.659302</td>\n",
       "      <td>0.002345</td>\n",
       "      <td>4.764553</td>\n",
       "    </tr>\n",
       "    <tr>\n",
       "      <th>39</th>\n",
       "      <td>(3QNEE)</td>\n",
       "      <td>(5O2CO)</td>\n",
       "      <td>0.002768</td>\n",
       "      <td>0.002976</td>\n",
       "      <td>0.002353</td>\n",
       "      <td>0.850000</td>\n",
       "      <td>285.659302</td>\n",
       "      <td>0.002345</td>\n",
       "      <td>6.646830</td>\n",
       "    </tr>\n",
       "    <tr>\n",
       "      <th>66</th>\n",
       "      <td>(W14J3)</td>\n",
       "      <td>(1IX2L)</td>\n",
       "      <td>0.017784</td>\n",
       "      <td>0.010588</td>\n",
       "      <td>0.002007</td>\n",
       "      <td>0.112840</td>\n",
       "      <td>10.657893</td>\n",
       "      <td>0.001818</td>\n",
       "      <td>1.115259</td>\n",
       "    </tr>\n",
       "    <tr>\n",
       "      <th>67</th>\n",
       "      <td>(1IX2L)</td>\n",
       "      <td>(W14J3)</td>\n",
       "      <td>0.010588</td>\n",
       "      <td>0.017784</td>\n",
       "      <td>0.002007</td>\n",
       "      <td>0.189542</td>\n",
       "      <td>10.657893</td>\n",
       "      <td>0.001818</td>\n",
       "      <td>1.211928</td>\n",
       "    </tr>\n",
       "    <tr>\n",
       "      <th>15</th>\n",
       "      <td>(9Y7M0)</td>\n",
       "      <td>(LJ26I)</td>\n",
       "      <td>0.016746</td>\n",
       "      <td>0.017023</td>\n",
       "      <td>0.002976</td>\n",
       "      <td>0.177686</td>\n",
       "      <td>10.437966</td>\n",
       "      <td>0.002691</td>\n",
       "      <td>1.195379</td>\n",
       "    </tr>\n",
       "    <tr>\n",
       "      <th>...</th>\n",
       "      <td>...</td>\n",
       "      <td>...</td>\n",
       "      <td>...</td>\n",
       "      <td>...</td>\n",
       "      <td>...</td>\n",
       "      <td>...</td>\n",
       "      <td>...</td>\n",
       "      <td>...</td>\n",
       "      <td>...</td>\n",
       "    </tr>\n",
       "    <tr>\n",
       "      <th>28</th>\n",
       "      <td>(OV1P9)</td>\n",
       "      <td>(UNJKW)</td>\n",
       "      <td>0.019860</td>\n",
       "      <td>0.057920</td>\n",
       "      <td>0.002699</td>\n",
       "      <td>0.135889</td>\n",
       "      <td>2.346147</td>\n",
       "      <td>0.001548</td>\n",
       "      <td>1.090230</td>\n",
       "    </tr>\n",
       "    <tr>\n",
       "      <th>55</th>\n",
       "      <td>(W1ZMG)</td>\n",
       "      <td>(C6TXL)</td>\n",
       "      <td>0.028303</td>\n",
       "      <td>0.041520</td>\n",
       "      <td>0.002076</td>\n",
       "      <td>0.073350</td>\n",
       "      <td>1.766626</td>\n",
       "      <td>0.000901</td>\n",
       "      <td>1.034350</td>\n",
       "    </tr>\n",
       "    <tr>\n",
       "      <th>54</th>\n",
       "      <td>(C6TXL)</td>\n",
       "      <td>(W1ZMG)</td>\n",
       "      <td>0.041520</td>\n",
       "      <td>0.028303</td>\n",
       "      <td>0.002076</td>\n",
       "      <td>0.050000</td>\n",
       "      <td>1.766626</td>\n",
       "      <td>0.000901</td>\n",
       "      <td>1.022839</td>\n",
       "    </tr>\n",
       "    <tr>\n",
       "      <th>40</th>\n",
       "      <td>(DWJC4)</td>\n",
       "      <td>(C6TXL)</td>\n",
       "      <td>0.032316</td>\n",
       "      <td>0.041520</td>\n",
       "      <td>0.002353</td>\n",
       "      <td>0.072805</td>\n",
       "      <td>1.753512</td>\n",
       "      <td>0.001011</td>\n",
       "      <td>1.033742</td>\n",
       "    </tr>\n",
       "    <tr>\n",
       "      <th>41</th>\n",
       "      <td>(C6TXL)</td>\n",
       "      <td>(DWJC4)</td>\n",
       "      <td>0.041520</td>\n",
       "      <td>0.032316</td>\n",
       "      <td>0.002353</td>\n",
       "      <td>0.056667</td>\n",
       "      <td>1.753512</td>\n",
       "      <td>0.001011</td>\n",
       "      <td>1.025813</td>\n",
       "    </tr>\n",
       "  </tbody>\n",
       "</table>\n",
       "<p>68 rows × 9 columns</p>\n",
       "</div>\n",
       "      <button class=\"colab-df-convert\" onclick=\"convertToInteractive('df-4767059b-a421-4fe5-bf65-7c20bbb343b8')\"\n",
       "              title=\"Convert this dataframe to an interactive table.\"\n",
       "              style=\"display:none;\">\n",
       "        \n",
       "  <svg xmlns=\"http://www.w3.org/2000/svg\" height=\"24px\"viewBox=\"0 0 24 24\"\n",
       "       width=\"24px\">\n",
       "    <path d=\"M0 0h24v24H0V0z\" fill=\"none\"/>\n",
       "    <path d=\"M18.56 5.44l.94 2.06.94-2.06 2.06-.94-2.06-.94-.94-2.06-.94 2.06-2.06.94zm-11 1L8.5 8.5l.94-2.06 2.06-.94-2.06-.94L8.5 2.5l-.94 2.06-2.06.94zm10 10l.94 2.06.94-2.06 2.06-.94-2.06-.94-.94-2.06-.94 2.06-2.06.94z\"/><path d=\"M17.41 7.96l-1.37-1.37c-.4-.4-.92-.59-1.43-.59-.52 0-1.04.2-1.43.59L10.3 9.45l-7.72 7.72c-.78.78-.78 2.05 0 2.83L4 21.41c.39.39.9.59 1.41.59.51 0 1.02-.2 1.41-.59l7.78-7.78 2.81-2.81c.8-.78.8-2.07 0-2.86zM5.41 20L4 18.59l7.72-7.72 1.47 1.35L5.41 20z\"/>\n",
       "  </svg>\n",
       "      </button>\n",
       "      \n",
       "  <style>\n",
       "    .colab-df-container {\n",
       "      display:flex;\n",
       "      flex-wrap:wrap;\n",
       "      gap: 12px;\n",
       "    }\n",
       "\n",
       "    .colab-df-convert {\n",
       "      background-color: #E8F0FE;\n",
       "      border: none;\n",
       "      border-radius: 50%;\n",
       "      cursor: pointer;\n",
       "      display: none;\n",
       "      fill: #1967D2;\n",
       "      height: 32px;\n",
       "      padding: 0 0 0 0;\n",
       "      width: 32px;\n",
       "    }\n",
       "\n",
       "    .colab-df-convert:hover {\n",
       "      background-color: #E2EBFA;\n",
       "      box-shadow: 0px 1px 2px rgba(60, 64, 67, 0.3), 0px 1px 3px 1px rgba(60, 64, 67, 0.15);\n",
       "      fill: #174EA6;\n",
       "    }\n",
       "\n",
       "    [theme=dark] .colab-df-convert {\n",
       "      background-color: #3B4455;\n",
       "      fill: #D2E3FC;\n",
       "    }\n",
       "\n",
       "    [theme=dark] .colab-df-convert:hover {\n",
       "      background-color: #434B5C;\n",
       "      box-shadow: 0px 1px 3px 1px rgba(0, 0, 0, 0.15);\n",
       "      filter: drop-shadow(0px 1px 2px rgba(0, 0, 0, 0.3));\n",
       "      fill: #FFFFFF;\n",
       "    }\n",
       "  </style>\n",
       "\n",
       "      <script>\n",
       "        const buttonEl =\n",
       "          document.querySelector('#df-4767059b-a421-4fe5-bf65-7c20bbb343b8 button.colab-df-convert');\n",
       "        buttonEl.style.display =\n",
       "          google.colab.kernel.accessAllowed ? 'block' : 'none';\n",
       "\n",
       "        async function convertToInteractive(key) {\n",
       "          const element = document.querySelector('#df-4767059b-a421-4fe5-bf65-7c20bbb343b8');\n",
       "          const dataTable =\n",
       "            await google.colab.kernel.invokeFunction('convertToInteractive',\n",
       "                                                     [key], {});\n",
       "          if (!dataTable) return;\n",
       "\n",
       "          const docLinkHtml = 'Like what you see? Visit the ' +\n",
       "            '<a target=\"_blank\" href=https://colab.research.google.com/notebooks/data_table.ipynb>data table notebook</a>'\n",
       "            + ' to learn more about interactive tables.';\n",
       "          element.innerHTML = '';\n",
       "          dataTable['output_type'] = 'display_data';\n",
       "          await google.colab.output.renderOutput(dataTable, element);\n",
       "          const docLink = document.createElement('div');\n",
       "          docLink.innerHTML = docLinkHtml;\n",
       "          element.appendChild(docLink);\n",
       "        }\n",
       "      </script>\n",
       "    </div>\n",
       "  </div>\n",
       "  "
      ],
      "text/plain": [
       "   antecedents consequents  antecedent support  consequent support   support  \\\n",
       "38     (5O2CO)     (3QNEE)            0.002976            0.002768  0.002353   \n",
       "39     (3QNEE)     (5O2CO)            0.002768            0.002976  0.002353   \n",
       "66     (W14J3)     (1IX2L)            0.017784            0.010588  0.002007   \n",
       "67     (1IX2L)     (W14J3)            0.010588            0.017784  0.002007   \n",
       "15     (9Y7M0)     (LJ26I)            0.016746            0.017023  0.002976   \n",
       "..         ...         ...                 ...                 ...       ...   \n",
       "28     (OV1P9)     (UNJKW)            0.019860            0.057920  0.002699   \n",
       "55     (W1ZMG)     (C6TXL)            0.028303            0.041520  0.002076   \n",
       "54     (C6TXL)     (W1ZMG)            0.041520            0.028303  0.002076   \n",
       "40     (DWJC4)     (C6TXL)            0.032316            0.041520  0.002353   \n",
       "41     (C6TXL)     (DWJC4)            0.041520            0.032316  0.002353   \n",
       "\n",
       "    confidence        lift  leverage  conviction  \n",
       "38    0.790698  285.659302  0.002345    4.764553  \n",
       "39    0.850000  285.659302  0.002345    6.646830  \n",
       "66    0.112840   10.657893  0.001818    1.115259  \n",
       "67    0.189542   10.657893  0.001818    1.211928  \n",
       "15    0.177686   10.437966  0.002691    1.195379  \n",
       "..         ...         ...       ...         ...  \n",
       "28    0.135889    2.346147  0.001548    1.090230  \n",
       "55    0.073350    1.766626  0.000901    1.034350  \n",
       "54    0.050000    1.766626  0.000901    1.022839  \n",
       "40    0.072805    1.753512  0.001011    1.033742  \n",
       "41    0.056667    1.753512  0.001011    1.025813  \n",
       "\n",
       "[68 rows x 9 columns]"
      ]
     },
     "execution_count": 311,
     "metadata": {},
     "output_type": "execute_result"
    }
   ],
   "source": [
    "rule_2.sort_values(by='lift', ascending=False)"
   ]
  },
  {
   "cell_type": "code",
   "execution_count": 289,
   "metadata": {
    "executionInfo": {
     "elapsed": 39,
     "status": "ok",
     "timestamp": 1664807983138,
     "user": {
      "displayName": "Hoàng Tiến Dương",
      "userId": "10873276387831537806"
     },
     "user_tz": -420
    },
    "id": "QvSiQ2HcHX3i"
   },
   "outputs": [],
   "source": [
    "from collections import defaultdict"
   ]
  },
  {
   "cell_type": "code",
   "execution_count": 290,
   "metadata": {
    "executionInfo": {
     "elapsed": 38,
     "status": "ok",
     "timestamp": 1664807983138,
     "user": {
      "displayName": "Hoàng Tiến Dương",
      "userId": "10873276387831537806"
     },
     "user_tz": -420
    },
    "id": "kEJJTMe56Ml9"
   },
   "outputs": [],
   "source": [
    "# source code from: http://codegist.net/snippet/python/eclatpy_evertheylen_python\n",
    "def tidlists(transactions):\n",
    "    tl = defaultdict(set)\n",
    "    for tid, t in enumerate(transactions):\n",
    "        for item in t:\n",
    "            tl[item].add(tid)\n",
    "    return list(tl.items())\n",
    "\n",
    "\n",
    "class IntersectAll:\n",
    "    def __and__(self, other):\n",
    "        return other\n",
    "\n",
    "\n",
    "IntersectAll = IntersectAll()\n",
    "\n",
    "\n",
    "def eclat(items, minsup=0, minlen=1):\n",
    "    frequent_itemsets = {(): IntersectAll}\n",
    "\n",
    "    def recurse(items, prefix):\n",
    "        while len(items) > 0:\n",
    "            item, item_tidlist = items.pop()\n",
    "            l = prefix + (item,)  # l is the (ordered) tuple of items we are looking for\n",
    "            new_tidlist = frequent_itemsets[prefix] & item_tidlist\n",
    "            if len(new_tidlist) >= minsup:  # add frequent_itemsets to the new frequent_itemsets\n",
    "                frequent_itemsets[l] = new_tidlist\n",
    "\n",
    "            # define the new l-conditional database\n",
    "            new_items = []\n",
    "            for new_item, _item_tidlist in items:\n",
    "                new_item_tidlist = _item_tidlist & item_tidlist\n",
    "                if len(new_item_tidlist) >= minsup:\n",
    "                    new_items.append((new_item, new_item_tidlist))\n",
    "\n",
    "            # recurse, with l as prefix\n",
    "            recurse(new_items, l)\n",
    "\n",
    "    recurse(items.copy(), ())\n",
    "    return {k: len(v) for k, v in frequent_itemsets.items() if len(k) >= minlen}"
   ]
  },
  {
   "cell_type": "code",
   "execution_count": 291,
   "metadata": {
    "executionInfo": {
     "elapsed": 39,
     "status": "ok",
     "timestamp": 1664807983139,
     "user": {
      "displayName": "Hoàng Tiến Dương",
      "userId": "10873276387831537806"
     },
     "user_tz": -420
    },
    "id": "48RZHsXdHIuX"
   },
   "outputs": [],
   "source": [
    "items = tidlists(Transactions_new)"
   ]
  },
  {
   "cell_type": "code",
   "execution_count": 292,
   "metadata": {
    "colab": {
     "base_uri": "https://localhost:8080/"
    },
    "executionInfo": {
     "elapsed": 38,
     "status": "ok",
     "timestamp": 1664807983139,
     "user": {
      "displayName": "Hoàng Tiến Dương",
      "userId": "10873276387831537806"
     },
     "user_tz": -420
    },
    "id": "fgNoiVk2HVL1",
    "outputId": "0b86e59c-e3b6-4634-d2b3-dd7bc7a6464f"
   },
   "outputs": [
    {
     "data": {
      "text/plain": [
       "[('4PLF3',\n",
       "  {0,\n",
       "   1397,\n",
       "   1461,\n",
       "   2051,\n",
       "   2756,\n",
       "   2875,\n",
       "   2876,\n",
       "   3010,\n",
       "   3508,\n",
       "   3802,\n",
       "   4335,\n",
       "   4691,\n",
       "   4928,\n",
       "   5012,\n",
       "   5660,\n",
       "   5725,\n",
       "   6500,\n",
       "   7351,\n",
       "   7721,\n",
       "   7768,\n",
       "   7999,\n",
       "   10504,\n",
       "   10975,\n",
       "   12046,\n",
       "   13710}),\n",
       " ('W9RKF', {0, 4412}),\n",
       " ('520UE',\n",
       "  {0,\n",
       "   551,\n",
       "   636,\n",
       "   1038,\n",
       "   1159,\n",
       "   1427,\n",
       "   1565,\n",
       "   2146,\n",
       "   2505,\n",
       "   3036,\n",
       "   3079,\n",
       "   3355,\n",
       "   3691,\n",
       "   3862,\n",
       "   3993,\n",
       "   4099,\n",
       "   4612,\n",
       "   4645,\n",
       "   4700,\n",
       "   4811,\n",
       "   4875,\n",
       "   5202,\n",
       "   5296,\n",
       "   5545,\n",
       "   5591,\n",
       "   6426,\n",
       "   6511,\n",
       "   6939,\n",
       "   6985,\n",
       "   7503,\n",
       "   7805,\n",
       "   8060,\n",
       "   8227,\n",
       "   8434,\n",
       "   8495,\n",
       "   8605,\n",
       "   8829,\n",
       "   8875,\n",
       "   9382,\n",
       "   9397,\n",
       "   10012,\n",
       "   10034,\n",
       "   10145,\n",
       "   10239,\n",
       "   10473,\n",
       "   10530,\n",
       "   10723,\n",
       "   10882,\n",
       "   11227,\n",
       "   11550,\n",
       "   12103,\n",
       "   12239,\n",
       "   12268,\n",
       "   12308,\n",
       "   12625,\n",
       "   12887,\n",
       "   12903,\n",
       "   12913,\n",
       "   13190,\n",
       "   13777,\n",
       "   13790,\n",
       "   14012,\n",
       "   14019,\n",
       "   14196,\n",
       "   14233,\n",
       "   14296}),\n",
       " ('YIM6C',\n",
       "  {1,\n",
       "   96,\n",
       "   633,\n",
       "   926,\n",
       "   2754,\n",
       "   3215,\n",
       "   3263,\n",
       "   3616,\n",
       "   3851,\n",
       "   3871,\n",
       "   4172,\n",
       "   4670,\n",
       "   5281,\n",
       "   5306,\n",
       "   5365,\n",
       "   5812,\n",
       "   5897,\n",
       "   6175,\n",
       "   6228,\n",
       "   6259,\n",
       "   6625,\n",
       "   6964,\n",
       "   7058,\n",
       "   7455,\n",
       "   7743,\n",
       "   8516,\n",
       "   8562,\n",
       "   8756,\n",
       "   9195,\n",
       "   10860,\n",
       "   11140,\n",
       "   11380,\n",
       "   11607,\n",
       "   11867,\n",
       "   11905,\n",
       "   12090,\n",
       "   12242,\n",
       "   12457,\n",
       "   13435,\n",
       "   13512,\n",
       "   13528,\n",
       "   13755,\n",
       "   14175,\n",
       "   14299})]"
      ]
     },
     "execution_count": 292,
     "metadata": {},
     "output_type": "execute_result"
    }
   ],
   "source": [
    "items[0:4]"
   ]
  },
  {
   "cell_type": "code",
   "execution_count": 293,
   "metadata": {
    "executionInfo": {
     "elapsed": 2902,
     "status": "ok",
     "timestamp": 1664807986006,
     "user": {
      "displayName": "Hoàng Tiến Dương",
      "userId": "10873276387831537806"
     },
     "user_tz": -420
    },
    "id": "8oXLX4TdHlYQ"
   },
   "outputs": [],
   "source": [
    "result = eclat(items, minsup=40, minlen=2)"
   ]
  },
  {
   "cell_type": "code",
   "execution_count": 294,
   "metadata": {
    "colab": {
     "base_uri": "https://localhost:8080/"
    },
    "executionInfo": {
     "elapsed": 19,
     "status": "ok",
     "timestamp": 1664807986007,
     "user": {
      "displayName": "Hoàng Tiến Dương",
      "userId": "10873276387831537806"
     },
     "user_tz": -420
    },
    "id": "d8dNQuQPIewl",
    "outputId": "1f9ad30f-fd4b-4fe5-b82d-edaedf3aacde"
   },
   "outputs": [
    {
     "data": {
      "text/plain": [
       "{('3YDVF', 'DWJC4'): 54,\n",
       " ('B87MU', 'C6TXL'): 44,\n",
       " ('4FT32', 'QGK3S'): 41,\n",
       " ('C6TXL', 'QGK3S'): 53,\n",
       " ('C6TXL', '9Y7M0'): 42,\n",
       " ('C6TXL', 'SJ0ZD'): 41,\n",
       " ('C6TXL', 'LJ26I'): 51,\n",
       " ('C6TXL', 'TL4WZ'): 57,\n",
       " ('QGK3S', 'DWJC4'): 41,\n",
       " ('9Y7M0', 'LJ26I'): 43,\n",
       " ('DWJC4', 'TL4WZ'): 54,\n",
       " ('UNJKW', 'COWU2'): 55}"
      ]
     },
     "execution_count": 294,
     "metadata": {},
     "output_type": "execute_result"
    }
   ],
   "source": [
    "result"
   ]
  },
  {
   "cell_type": "code",
   "execution_count": 295,
   "metadata": {
    "colab": {
     "base_uri": "https://localhost:8080/"
    },
    "executionInfo": {
     "elapsed": 16,
     "status": "ok",
     "timestamp": 1664807986007,
     "user": {
      "displayName": "Hoàng Tiến Dương",
      "userId": "10873276387831537806"
     },
     "user_tz": -420
    },
    "id": "N8OysIPfLaAR",
    "outputId": "d0380f62-ab8a-4cb3-a299-cb9a8f5ca72f"
   },
   "outputs": [
    {
     "name": "stdout",
     "output_type": "stream",
     "text": [
      "('C6TXL', 'TL4WZ')\n"
     ]
    }
   ],
   "source": [
    "Keymax = max(result, key = lambda x: result[x])\n",
    "print(Keymax)"
   ]
  },
  {
   "cell_type": "code",
   "execution_count": 296,
   "metadata": {
    "colab": {
     "base_uri": "https://localhost:8080/"
    },
    "executionInfo": {
     "elapsed": 14,
     "status": "ok",
     "timestamp": 1664807986008,
     "user": {
      "displayName": "Hoàng Tiến Dương",
      "userId": "10873276387831537806"
     },
     "user_tz": -420
    },
    "id": "3d0meCUjNdQ_",
    "outputId": "23a25551-267a-4806-9c21-74670f25f739"
   },
   "outputs": [
    {
     "name": "stdout",
     "output_type": "stream",
     "text": [
      "('4FT32', 'QGK3S')\n"
     ]
    }
   ],
   "source": [
    "Keymin = min(result, key = lambda x: result[x])\n",
    "print(Keymin)"
   ]
  },
  {
   "cell_type": "code",
   "execution_count": 297,
   "metadata": {
    "colab": {
     "base_uri": "https://localhost:8080/",
     "height": 881
    },
    "executionInfo": {
     "elapsed": 11,
     "status": "ok",
     "timestamp": 1664807986008,
     "user": {
      "displayName": "Hoàng Tiến Dương",
      "userId": "10873276387831537806"
     },
     "user_tz": -420
    },
    "id": "q2eU7wJsNhBp",
    "outputId": "7646698d-b9e6-4442-b290-9d8ed86eb3d7"
   },
   "outputs": [
    {
     "data": {
      "text/plain": [
       "<matplotlib.axes._subplots.AxesSubplot at 0x7f184227e6d0>"
      ]
     },
     "execution_count": 297,
     "metadata": {},
     "output_type": "execute_result"
    },
    {
     "data": {
      "image/png": "[encoded data removed]",
      "text/plain": [
       "<Figure size 576x1080 with 1 Axes>"
      ]
     },
     "metadata": {
      "needs_background": "light"
     },
     "output_type": "display_data"
    }
   ],
   "source": [
    "plt.figure(figsize=(8,15))\n",
    "pd.Series(result).sort_values().plot(kind='barh')"
   ]
  },
  {
   "cell_type": "code",
   "execution_count": 297,
   "metadata": {
    "executionInfo": {
     "elapsed": 8,
     "status": "ok",
     "timestamp": 1664807986008,
     "user": {
      "displayName": "Hoàng Tiến Dương",
      "userId": "10873276387831537806"
     },
     "user_tz": -420
    },
    "id": "NmV-8Df6Prmo"
   },
   "outputs": [],
   "source": []
  }
 ],
 "metadata": {
  "colab": {
   "authorship_tag": "ABX9TyNj0woRNNRlubwnDzsUi4OU",
   "mount_file_id": "1RGr7NPFplj5e6xJCotZ5DMPYCjXMELCt",
   "provenance": []
  },
  "kernelspec": {
   "display_name": "Python 3 (ipykernel)",
   "language": "python",
   "name": "python3"
  },
  "language_info": {
   "codemirror_mode": {
    "name": "ipython",
    "version": 3
   },
   "file_extension": ".py",
   "mimetype": "text/x-python",
   "name": "python",
   "nbconvert_exporter": "python",
   "pygments_lexer": "ipython3",
   "version": "3.9.12"
  }
 },
 "nbformat": 4,
 "nbformat_minor": 4
}
